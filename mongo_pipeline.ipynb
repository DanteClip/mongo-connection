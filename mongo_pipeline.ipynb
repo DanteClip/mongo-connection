{
 "cells": [
  {
   "cell_type": "code",
   "execution_count": 1,
   "metadata": {},
   "outputs": [
    {
     "name": "stderr",
     "output_type": "stream",
     "text": [
      "your 131072x1 screen size is bogus. expect trouble\n",
      "24/10/04 20:38:32 WARN Utils: Your hostname, DanteMutt resolves to a loopback address: 127.0.1.1; using 10.255.255.254 instead (on interface lo)\n",
      "24/10/04 20:38:33 WARN Utils: Set SPARK_LOCAL_IP if you need to bind to another address\n",
      "24/10/04 20:38:33 WARN NativeCodeLoader: Unable to load native-hadoop library for your platform... using builtin-java classes where applicable\n",
      "Setting default log level to \"WARN\".\n",
      "To adjust logging level use sc.setLogLevel(newLevel). For SparkR, use setLogLevel(newLevel).\n",
      "2024-10-04 20:38:35,486 - INFO - Connection succesfully established\n"
     ]
    }
   ],
   "source": [
    "import os\n",
    "import logging\n",
    "import shutil \n",
    "from dotenv import load_dotenv\n",
    "from zoneinfo import ZoneInfo\n",
    "from datetime import datetime\n",
    "from pyspark.sql import SparkSession\n",
    "from pyspark.sql import functions as F\n",
    "\n",
    "\n",
    "load_dotenv()\n",
    "MONGO_DB = os.getenv(\"MONGO_DB\")\n",
    "MONGO_URI = os.getenv(\"MONGO_URI\")\n",
    "DBKS_TOKEN = os.getenv(\"DBKS_TOKEN\")\n",
    "\n",
    "jar_path = './mongo-spark-connector_2.12-3.0.2-assembly.jar'\n",
    "\n",
    "logging.basicConfig(level=logging.INFO, \n",
    "                    format='%(asctime)s - %(levelname)s - %(message)s')\n",
    "\n",
    "spark = SparkSession.builder \\\n",
    "    .appName(\"MongoDB_Spark_Connection\") \\\n",
    "    .config(\"spark.mongodb.input.uri\", MONGO_URI) \\\n",
    "    .config(\"spark.jars\", jar_path) \\\n",
    "    .getOrCreate()\n",
    "\n",
    "logging.info(f\"Connection succesfully established\")\n"
   ]
  },
  {
   "cell_type": "code",
   "execution_count": 2,
   "metadata": {},
   "outputs": [
    {
     "name": "stderr",
     "output_type": "stream",
     "text": [
      "24/10/04 20:38:46 WARN GarbageCollectionMetrics: To enable non-built-in garbage collector(s) List(G1 Concurrent GC), users should configure it(them) to spark.eventLog.gcMetrics.youngGenerationGarbageCollectors or spark.eventLog.gcMetrics.oldGenerationGarbageCollectors\n",
      "24/10/04 20:38:52 WARN MongoInferSchema: Array Field 'devices' contains conflicting types converting to StringType\n",
      "24/10/04 20:38:54 WARN SparkStringUtils: Truncated the string representation of a plan since it was too large. This behavior can be adjusted by setting 'spark.sql.debug.maxToStringFields'.\n",
      "[Stage 4:==============>                                            (1 + 3) / 4]\r"
     ]
    },
    {
     "name": "stdout",
     "output_type": "stream",
     "text": [
      "+--------------------+--------------------+-------------------+--------------------+----------+------------------+----------------+--------------------+-------------+----------------+----------------+----------------+--------------+-----------+----------------+-----------------+---------------+--------------+--------------------+------------+--------------------+--------------------+--------------------+-------------+----------+------------------------+---------------+--------------------+--------+-------------+----------+------------+-----------+---------+-----------------------+------------------+----------------+--------------------+--------------------+--------------------+------------+------------------+--------------------+--------------------+--------------------+--------------------+-------------+--------------------+--------------+-----------------+--------------------+--------------------+----------------+--------------------+------------------+--------+--------------+-----------+-------------+--------------------+--------------------+----------+--------+---------------+---------+----------+-------+------------+------------------+-----------+---------------------+---------------------------+--------+--------------------+--------------------+---------+---------+----------------+--------------------+-----------------------+--------------------+------------------------------+--------------------+------------------+-----+------------+-------------------+--------------------+--------------------+-----------------+--------------+--------+-----+-------------------+------------+---------------+--------------------+----+--------------------+--------------+---+--------------------+--------------+-------------------+-------------+--------------------+--------------------+----------+--------------+----------------+--------------+-----------+--------------------+--------------------+--------------------+--------------------+-------------+---------+--------------------+--------------------+-------------+--------------------+\n",
      "|                _acl|         _created_at|_email_verify_token|    _hashed_password|       _id|   _p_birthCountry|   _p_birthState|         _p_dataLink|_p_dataLinkPS|_p_documentFront|_p_document_back|    _p_imageLink|_p_nationality|_p_referral|    _p_signature|_perishable_token|         _rperm|_session_token|         _updated_at|      _wperm|          acceptedAt|        acceptedHash| acceptedHashHistory|acceptedRules|   account|accountStatementRequests|alreadyincondor|                apps|authType|beneficiaries| birthDate|blockedUntil|cardAttempt|cardLimit|checkedCardsFingerprint|      claveElector|closeAccountCode|   closeAccountDates|             comment|             configs|confirmedPin|              curp|   customerIdConekta|             devices|      document_front|               email|emailVerified|     emailVerifiedAt|email_Verified|       facebookId|              fbData|           firstCard|       firstName|    firstTransaction|folioClosedAccount|fullName|hasKeyboardPin|hasPassword|hasRecipients|            idSentAt|        incomeSource|inviteFrom|ipSignUp|isClosedAccount|isForeign|isInCondor|isInSTP|isInSendBird|is_android_trusted|keyboardPin|lastAccountActivityAt|lastAccountStatementRequest| lastApp|          lastDevice|             lastKyc| lastName|lastName2|lastNotification|            lastOpen|lastPasswordChangedDate|       lastSessionAt|lastTermsAndConditionsAccepted|     lastTransaction|          latitude|limit|loginAttemps|          longitude|         nameHistory|          occupation|permanentlyLocked|         phone|     pin|promo|reasonClosedAccount|referralDate|requestResetPIN|requestResetPassword| rfc|              selfie|sentToReviewAt|sex|           shareLink|shouldResetPIN|shouldResetPassword|signupCountry|         signupState|               state|    status|swapCreditFlag|             tag|        tenant|trackingCid| transactionalAmount|     transactionalId|  transactionalToken|         trustedDate|trustedNotify|     type|      userExternalId|      userInternalId|user_verified|            username|\n",
      "+--------------------+--------------------+-------------------+--------------------+----------+------------------+----------------+--------------------+-------------+----------------+----------------+----------------+--------------+-----------+----------------+-----------------+---------------+--------------+--------------------+------------+--------------------+--------------------+--------------------+-------------+----------+------------------------+---------------+--------------------+--------+-------------+----------+------------+-----------+---------+-----------------------+------------------+----------------+--------------------+--------------------+--------------------+------------+------------------+--------------------+--------------------+--------------------+--------------------+-------------+--------------------+--------------+-----------------+--------------------+--------------------+----------------+--------------------+------------------+--------+--------------+-----------+-------------+--------------------+--------------------+----------+--------+---------------+---------+----------+-------+------------+------------------+-----------+---------------------+---------------------------+--------+--------------------+--------------------+---------+---------+----------------+--------------------+-----------------------+--------------------+------------------------------+--------------------+------------------+-----+------------+-------------------+--------------------+--------------------+-----------------+--------------+--------+-----+-------------------+------------+---------------+--------------------+----+--------------------+--------------+---+--------------------+--------------+-------------------+-------------+--------------------+--------------------+----------+--------------+----------------+--------------+-----------+--------------------+--------------------+--------------------+--------------------+-------------+---------+--------------------+--------------------+-------------+--------------------+\n",
      "|{000Q7KjXtH -> {t...|2024-07-03 04:51:...|               NULL|$2a$10$JU9b.dYr10...|000Q7KjXtH|Country$elWGUJgxg2|State$H1LXa0xnTg|PocketPay$qKAHHbL6Zv|         NULL|            NULL|            NULL|Image$o2rDkjxtAl|          NULL|       NULL|            NULL|             NULL|[*, 000Q7KjXtH]|          NULL|2024-07-03 04:51:...|[000Q7KjXtH]|2024-07-03 04:51:...|b7e013bc939926379...|[{{Date, 2024-07-...|         true|   trusted|                    NULL|           NULL|                NULL|password|         NULL|15/05/1989|        NULL|       NULL|     NULL|                   true|DMMZCN89051505M400|            NULL|                NULL|                NULL|                    |        NULL|DOMC890515MCLMZN01|cus_2wD4gjd5Yp7in...|[BF9CED0E-149C-44...|                NULL|natigro1602@gmail...|        false|                NULL|          NULL|             NULL|                NULL|                NULL|  Cindy Josefina|                NULL|              NULL|    NULL|          NULL|       true|         NULL|                NULL|  Salario de Trabajo|      NULL|      []|           NULL|    false|     false|   true|        NULL|              NULL|       NULL|                 NULL|                       NULL|    swap|BF9CED0E-149C-44B...|2024-07-03 04:51:...|Dominguez|   Mazuca|            NULL|2024-07-03 04:51:...|   2024-07-03 04:51:...|                NULL|                    2023.12.12|                NULL|         29.337566| NULL|        NULL|         -100.95544|[CINDY JOSEFINA D...|         Comerciante|             NULL|+5218771009013|    NULL| NULL|               NULL|        NULL|           NULL|                NULL|NULL|                NULL|          NULL|  F|                NULL|          NULL|              false|       Mexico|Coahuila de Zaragoza|COAHUILA DE ZARAGOZA|registered|          NULL|        cindydom|DigitalAccount|           |       Hasta $20,000|                NULL|                NULL|                NULL|         NULL|PocketPay|c225fa31-46d2-414...|b1a0ac85-974d-42e...|         NULL|natigro1602@gmail...|\n",
      "|{* -> {true, NULL...|2021-06-15 18:21:...|               NULL|$2a$10$msgS7qkuqs...|000YCikyzv|Country$elWGUJgxg2|State$BRzZ3NHUSX|PocketPay$id5XFpGaJt|         NULL|Image$mm9iCkX6lN|Image$gnxBE8Gn1L|Image$eTOvOZlQ5F|          NULL|       NULL|Image$6k2EczIs1O|             NULL|[*, 000YCikyzv]|          NULL|2022-09-06 19:49:...|[000YCikyzv]|2021-06-15 18:21:...|e91058d0c173144d3...|                NULL|         true|   trusted|                    NULL|           NULL|[SwapChat, Alerti...|    NULL|         NULL|03/07/1971|        NULL|       NULL|     NULL|                   NULL|HRHRJR71070308H000|            NULL|                NULL|andre lo cambió a...|     |BlockingRule2||        NULL|HEHJ710703HCHRRR06|cus_2sTYF6uxi4WmN...|[966BA3CF07FC4E81...|                NULL|xorjehdx@hotmail.com|         true|2021-06-15 18:22:...|          NULL|             NULL|                NULL|2021-06-15 19:35:...|  Jorge Gulliver|2021-06-16 16:38:...|              NULL|    NULL|          NULL|       true|         true|2021-07-20 19:17:...|  Salario de Trabajo|      NULL|    NULL|           NULL|    false|      true|   true|        NULL|              NULL|       NULL|                 NULL|                       NULL|SwapChat|966BA3CF07FC4E819...|                NULL|Hernandez|Hernandez|            NULL|2021-08-16 15:41:...|   2021-06-15 18:21:...|2021-08-16 15:41:...|                          NULL|2021-07-20 19:23:...|28.618335669965255| NULL|        NULL|-106.02802640492727|[Jorge Gulliver H...|          Asalariado|             NULL|+5216142193343|    NULL| NULL|               NULL|        NULL|           NULL|                NULL|NULL|df1496ded3d3076c5...|          NULL|  M|https://swapme.pa...|          NULL|              false|         NULL|                NULL|           CHIHUAHUA|      NULL|          NULL| jorgehernandezh|          NULL|           |                NULL|uMhmcSAB8QpOTZnXf...|lSFLYDA4dpCKvildu...|2021-07-20 19:28:...|         NULL|PocketPay|                NULL|                NULL|         NULL|xorjehdx@hotmail.com|\n",
      "|{000cwaJfxL -> {N...|2019-07-22 15:50:...|               NULL|$2a$10$GJPtGN6Q6....|000cwaJfxL|              NULL|            NULL|PocketPay$LT60qb6JWO|         NULL|            NULL|            NULL|Image$e366p5P98C|          NULL|       NULL|            NULL|             NULL|            [*]|          NULL|2024-05-02 17:51:...|[000cwaJfxL]|                NULL|                NULL|                NULL|         NULL|fraudulent|                    NULL|           NULL|                NULL|    NULL|         NULL|31/03/2000|        NULL|       NULL|     NULL|                   NULL|              NULL|            NULL|{2023/08/17, 12:0...|                NULL|                NULL|        NULL|              NULL|cus_2sTbWzLcC82db...|[d30f318e3229daad...|                NULL|nataliafernanda@g...|         true|                NULL|          NULL|             NULL|                NULL|                NULL|Fernanda Natalia|                NULL|              NULL|    NULL|          NULL|       NULL|         NULL|                NULL|                NULL|      NULL|    NULL|           true|     NULL|     false|   NULL|        NULL|              true|       NULL|                 NULL|                       NULL|    NULL|    d30f318e3229daad|                NULL|  Amezcua| Paniagua|            NULL|2020-01-02 22:41:...|                   NULL|2020-01-02 22:40:...|                          NULL|                NULL|              NULL| NULL|        NULL|               NULL|[Fernanda Natalia...|                NULL|             NULL|+5213151012278|    NULL| NULL|     KYC Incompleto|        NULL|           NULL|                NULL|NULL|                NULL|          NULL|  F|                NULL|          NULL|               NULL|         NULL|                NULL|             Jalisco|      NULL|          NULL|     fernandaame|          NULL|       NULL|                NULL|                NULL|                NULL|                NULL|         NULL|PocketPay|                NULL|                NULL|         NULL|nataliafernanda@g...|\n",
      "|{000sfJy6gM -> {t...|2024-08-22 00:50:...|               NULL|$2a$10$5.KYEuv3Ti...|000sfJy6gM|Country$elWGUJgxg2|State$AvdQ4oTlRX|PocketPay$3gxmakrnTh|         NULL|            NULL|            NULL|Image$WkZ1N7AXZL|          NULL|       NULL|            NULL|             NULL|[*, 000sfJy6gM]|          NULL|2024-08-22 00:51:...|[000sfJy6gM]|2024-08-22 00:50:...|4fef7daa1c86cadb4...|[{{Date, 2024-08-...|         true|   trusted|                    NULL|           NULL|                NULL|password|         NULL|18/01/1991|        NULL|       NULL|     NULL|                   true|MRGLCS91011824H400|            NULL|                NULL|                NULL|                    |        NULL|MAGC910118HSPRLS00|cus_2wVMar7bVtLv5...|[6B926F2C-A049-4F...|                NULL|happy.tails.gdl@g...|        false|                NULL|          NULL|             NULL|                NULL|                NULL|    Cesar Arturo|                NULL|              NULL|    NULL|          NULL|       true|         NULL|                NULL|  Salario de Trabajo|      NULL|      []|           NULL|    false|     false|   true|        NULL|              NULL|       NULL|                 NULL|                       NULL|    swap|6B926F2C-A049-4FA...|2024-08-22 00:50:...| Martinez| Gallardo|            NULL|2024-08-22 00:50:...|   2024-08-22 00:50:...|                NULL|                    2023.12.12|                NULL|         20.633003| NULL|        NULL|         -103.40033|[CESAR ARTURO MAR...|         Comerciante|             NULL|+5213318441470|    NULL| NULL|               NULL|        NULL|           NULL|                NULL|NULL|                NULL|          NULL|  M|                NULL|          NULL|              false|       Mexico|             Jalisco|     SAN LUIS POTOSI|registered|          NULL| cesarmartinez91|DigitalAccount|           |De $20,000 a $50,000|                NULL|                NULL|                NULL|         NULL|PocketPay|2922cdfe-3c07-443...|1458d294-f2d0-4ef...|         NULL|happy.tails.gdl@g...|\n",
      "|{001WHAEdZz -> {N...|2019-05-11 21:00:...|               NULL|$2b$10$7Lnwqge866...|001WHAEdZz|              NULL|            NULL|PocketPay$FQEbL23XD8|         NULL|            NULL|            NULL|Image$VNvCGFNGnI|          NULL|       NULL|            NULL|             NULL|            [*]|          NULL|2023-08-18 20:33:...|[001WHAEdZz]|                NULL|                NULL|                NULL|         NULL|fraudulent|                    NULL|           NULL|                NULL|    NULL|         NULL|02/12/1990|        NULL|       NULL|     NULL|                   NULL|              NULL|            NULL|{2023/08/17, 12:0...|                NULL|                NULL|        NULL|              NULL|cus_2sTb6mUZpVwAc...|  [e793463c080831d9]|                NULL|uribegc1802@gmail...|         true|                NULL|          NULL| 2238101209579628|{\"id\":\"2238101209...|                NULL|          Carlos|                NULL|              NULL|    NULL|          NULL|       NULL|         NULL|                NULL|                NULL|      NULL|    NULL|           true|     NULL|      true|   NULL|        NULL|              true|       NULL|                 NULL|                       NULL|    NULL|    e793463c080831d9|                NULL|    Uribe|   Garcia|            NULL|2019-05-11 21:07:...|                   NULL|                NULL|                          NULL|                NULL|              NULL| NULL|        NULL|               NULL|[Carlos Uribe Gar...|                NULL|             NULL|+5215548358869|    NULL| NULL|     KYC Incompleto|        NULL|           NULL|                NULL|NULL|                NULL|          NULL|  M|https://swapme.pa...|          NULL|               NULL|         NULL|                NULL|    Ciudad de México|      NULL|          NULL|       carlosuri|          NULL|       NULL|                NULL|                NULL|                NULL|                NULL|         NULL|PocketPay|                NULL|                NULL|         NULL|uribegc1802@gmail...|\n",
      "|{001dANgeEI -> {N...|2019-06-12 18:12:...|               NULL|$2a$10$B45AltGTcp...|001dANgeEI|              NULL|            NULL|PocketPay$SjFJBMTwBR|         NULL|            NULL|            NULL|Image$1ZYvdv5ls7|          NULL|       NULL|            NULL|             NULL|            [*]|          NULL|2023-06-09 00:28:...|[001dANgeEI]|                NULL|                NULL|                NULL|         true|     basic|                    NULL|           true|                NULL|    NULL|         NULL|  08/11/68|        NULL|       NULL|     NULL|                   NULL|              NULL|            NULL|                NULL|pedro lo cambió a...||notTrusted||credit||        true|LORA681108HMCPDL09|cus_2sTYVaWCebg4N...|[EC3A2E40CAFE4BF0...|de073373e634a7053...|enriquerodri20@gm...|         true|                NULL|          NULL| 1117777028393100|{\"email\":\"enrique...|2019-06-12 18:15:...|         Alberto|2019-06-12 18:57:...|              NULL|    NULL|          NULL|       NULL|         NULL|2019-07-27 04:12:...|Ingresos de Inver...|      NULL|    NULL|           NULL|     NULL|      true|   NULL|        NULL|              NULL|       NULL|                 NULL|                       NULL|    NULL|EC3A2E40CAFE4BF0A...|                NULL|    Lopez|Rodriguez|            NULL|2020-06-04 00:07:...|                   NULL|2019-12-23 15:34:...|                          NULL|2019-12-23 14:33:...|              NULL| NULL|           0|               NULL|[Alberto Lopez Ro...|          Empresario|             NULL|+5214929463662|14eb271d| NULL|               NULL|        NULL|           NULL|                NULL|NULL|9f3b0cfd39a82102a...|          NULL|  M|https://swapme.pa...|          NULL|               NULL|         NULL|                NULL|    Estado de México|      NULL|          NULL|    albertolop68|          NULL|       NULL|                NULL|                NULL|                NULL|                NULL|         NULL|PocketPay|                NULL|                NULL|         NULL|enriquerodri20@gm...|\n",
      "|{0025kwrrLB -> {t...|2024-08-06 20:09:...|               NULL|$2a$10$IbFGWHFHj5...|0025kwrrLB|Country$elWGUJgxg2|State$UytGiqpoBY|PocketPay$c5gDn5C4BL|         NULL|            NULL|            NULL|Image$UFJ7ZdM0a0|          NULL|       NULL|            NULL|             NULL|[*, 0025kwrrLB]|          NULL|2024-09-19 19:19:...|[0025kwrrLB]|2024-08-06 20:09:...|9ca38643f468676d8...|[{{Date, 2024-08-...|         true|   trusted|                    NULL|           NULL|                NULL|password|         NULL|23/10/1988|        NULL|       NULL|     NULL|                   true|GNRYLP88102309H100|            NULL|                NULL|                NULL|                    |        NULL|GORL881023HDFNYP09|cus_2wQPU2dL2CcW2...|  [afa47b354e40d6f1]|                NULL|leo.jesusglez@gma...|        false|                NULL|          NULL|             NULL|                NULL|                NULL|  Leopoldo Jesus|                NULL|              NULL|    NULL|          NULL|       true|         NULL|                NULL|  Salario de Trabajo|      NULL|      []|           NULL|    false|     false|   true|        NULL|              NULL|       NULL|                 NULL|                       NULL|    swap|    afa47b354e40d6f1|2024-08-06 20:09:...| Gonzalez|    Reyes|            NULL|2024-08-06 20:09:...|   2024-08-06 20:09:...|                NULL|                    2023.12.12|                NULL|          19.27361| NULL|        NULL|          -99.64774|[LEOPOLDO JESUS G...|Prestador de Serv...|             NULL|+5217227156999|    NULL| NULL|               NULL|        NULL|           NULL|                NULL|NULL|                NULL|          NULL|  M|                NULL|          NULL|              false|       Mexico|    Estado de México|    CIUDAD DE MÉXICO|registered|          NULL|leopoldogonzalez|DigitalAccount|           |       Hasta $20,000|                NULL|                NULL|                NULL|         NULL|PocketPay|248ab213-5ddf-427...|4d2c77bb-0330-493...|         NULL|leo.jesusglez@gma...|\n",
      "|{002BLFe696 -> {t...|2021-10-08 15:33:...|               NULL|$2a$10$LyhnUXCeeQ...|002BLFe696|Country$elWGUJgxg2|State$WAOXfBm04h|PocketPay$4GyWNJ3021|         NULL|            NULL|            NULL|Image$WRYvYtm0yz|          NULL|       NULL|            NULL|             NULL|[*, 002BLFe696]|          NULL|2022-09-07 02:46:...|[002BLFe696]|2021-10-08 15:33:...|eba5000476d436422...|                NULL|         true|     basic|                    NULL|           NULL|[SwapChat, Alerti...|    NULL|         NULL|30/03/1996|        NULL|       NULL|     NULL|                   NULL|              NULL|            NULL|                NULL|                NULL|       |SignupBonus||        NULL|AAMA960330HGTLRR02|cus_2sTdjvByziANj...|  [5797b775bb0e0597]|                NULL|arturoalmaguer87@...|        false|                NULL|          NULL|             NULL|                NULL|                NULL|   Arturo Jovani|                NULL|              NULL|    NULL|          NULL|       true|         true|                NULL|  Salario de Trabajo|      NULL|    NULL|           NULL|    false|      true|   true|        NULL|              true|       NULL|                 NULL|                       NULL|SwapChat|    5797b775bb0e0597|                NULL| Almaguer|Marmolejo|            NULL|2021-11-02 21:32:...|   2021-10-08 15:33:...|2021-10-08 15:33:...|                          NULL|                NULL|       21.15670693| NULL|        NULL|      -100.93463419|[Arturo Jovani Al...|Prestador de Serv...|             NULL|+5214181480444|    NULL| NULL|               NULL|        NULL|           NULL|                NULL|NULL|                NULL|          NULL|  M|                NULL|          NULL|              false|         NULL|                NULL|          GUANAJUATO|      NULL|          NULL|  arturoalmaguer|          NULL|           |                NULL|plN2isKZKrATxmNA9...|                NULL|                NULL|         NULL|PocketPay|                NULL|                NULL|         NULL|arturoalmaguer87@...|\n",
      "|{* -> {true, NULL...|2018-11-29 21:04:...|               NULL|$2b$10$PYdh/1/D9c...|003I7WVXZu|              NULL|            NULL|PocketPay$WOye7nzDWN|         NULL|            NULL|            NULL|Image$lJ46nlABgo|          NULL|       NULL|            NULL|             NULL|            [*]|          NULL|2023-08-18 20:25:...|[003I7WVXZu]|                NULL|                NULL|                NULL|         true|fraudulent|                    NULL|           NULL|                NULL|    NULL|         NULL|10/06/1980|        NULL|       NULL|     NULL|                   NULL|              NULL|            NULL|{2023/08/17, 12:0...|                NULL|              |atmp||        NULL|              NULL|cus_2sTagH4C2vu3M...|[727E0DE2AE514BEB...|                NULL|kepocouch@hotmail...|         true|                NULL|          NULL|10214444688243415|{\"picture\":{\"data...|                NULL|         Armando|                NULL|              NULL|    NULL|          NULL|       NULL|         NULL|                NULL|                NULL|      NULL|    NULL|           true|     NULL|      true|   NULL|        NULL|              NULL|       NULL|                 NULL|                       NULL|    NULL|                NULL|                NULL|   Garcia|Gutierrez|            NULL|2019-08-16 01:20:...|                   NULL|                NULL|                          NULL|                NULL|              NULL| NULL|        NULL|               NULL|[Armando Garcia G...|                NULL|             NULL|+5215548529157|    NULL| NULL|     KYC Incompleto|        NULL|           NULL|                NULL|NULL|                NULL|          NULL|  M|https://swapme.pa...|          NULL|               NULL|         NULL|                NULL|    Ciudad de México|      NULL|          NULL|    armandogar80|          NULL|       NULL|                NULL|                NULL|                NULL|                NULL|         NULL|PocketPay|                NULL|                NULL|         NULL|kepocouch@hotmail...|\n",
      "|{003LpOdDaj -> {t...|2021-10-04 07:32:...|               NULL|$2a$10$Bl.W8zsfWS...|003LpOdDaj|Country$elWGUJgxg2|State$tWnqTFckHb|PocketPay$wASHUxnfbo|         NULL|Image$BUk2R00xzA|Image$V66d3PGKhY|Image$XksRVijDKd|          NULL|       NULL|Image$l7JJiW1yem|             NULL|[*, 003LpOdDaj]|          NULL|2022-09-07 02:45:...|[003LpOdDaj]|2021-10-04 07:32:...|a034abeaa2b37d12c...|                NULL|         true|     basic|                    NULL|           NULL|[SwapChat, Alerti...|    NULL|         NULL|15/06/1969|        NULL|       NULL|     NULL|                   NULL|ORPELS69061502H200|            NULL|                NULL|andre lo cambió a...||SignupBonus||Blo...|        NULL|OIPL690615HBCRXS03|cus_2sTdjBMei4zjf...|  [2b867880997ecc52]|                NULL|gourmet.orihuela@...|        false|                NULL|          NULL|             NULL|                NULL|                NULL|       Jose Luis|                NULL|              NULL|    NULL|          NULL|       true|         true|2021-10-04 07:46:...|  Salario de Trabajo|      NULL|    NULL|           NULL|    false|      true|   true|        NULL|              true|       NULL|                 NULL|                       NULL|SwapChat|    2b867880997ecc52|                NULL| Orihuela|     Peña|            NULL|2021-10-04 07:58:...|   2021-10-04 07:32:...|2021-10-04 07:33:...|                          NULL|                NULL|        21.4950573| NULL|        NULL|       -104.9040103|[Jose Luis Orihue...|         Comerciante|             NULL|+5213117434388|    NULL| NULL|               NULL|        NULL|           NULL|                NULL|NULL|4041d4b7de9b2cc70...|          NULL|  M|                NULL|          NULL|              false|         NULL|                NULL|     BAJA CALIFORNIA|      NULL|          NULL|    joseorihuela|          NULL|           |                NULL|dcysdNWM8Ul91tG6J...|32kGz0dEAwAhZPoyK...|                NULL|         NULL|PocketPay|                NULL|                NULL|         NULL|gourmet.orihuela@...|\n",
      "+--------------------+--------------------+-------------------+--------------------+----------+------------------+----------------+--------------------+-------------+----------------+----------------+----------------+--------------+-----------+----------------+-----------------+---------------+--------------+--------------------+------------+--------------------+--------------------+--------------------+-------------+----------+------------------------+---------------+--------------------+--------+-------------+----------+------------+-----------+---------+-----------------------+------------------+----------------+--------------------+--------------------+--------------------+------------+------------------+--------------------+--------------------+--------------------+--------------------+-------------+--------------------+--------------+-----------------+--------------------+--------------------+----------------+--------------------+------------------+--------+--------------+-----------+-------------+--------------------+--------------------+----------+--------+---------------+---------+----------+-------+------------+------------------+-----------+---------------------+---------------------------+--------+--------------------+--------------------+---------+---------+----------------+--------------------+-----------------------+--------------------+------------------------------+--------------------+------------------+-----+------------+-------------------+--------------------+--------------------+-----------------+--------------+--------+-----+-------------------+------------+---------------+--------------------+----+--------------------+--------------+---+--------------------+--------------+-------------------+-------------+--------------------+--------------------+----------+--------------+----------------+--------------+-----------+--------------------+--------------------+--------------------+--------------------+-------------+---------+--------------------+--------------------+-------------+--------------------+\n",
      "only showing top 10 rows\n",
      "\n"
     ]
    },
    {
     "name": "stderr",
     "output_type": "stream",
     "text": [
      "                                                                                \r"
     ]
    }
   ],
   "source": [
    "df = spark.read \\\n",
    "    .format(\"mongo\") \\\n",
    "    .option(\"uri\", MONGO_URI) \\\n",
    "    .option(\"collection\", \"_User\") \\\n",
    "    .option(\"partitioner\", \"MongoPaginateBySizePartitioner\") \\\n",
    "    .load()\n",
    "\n",
    "# Mostrar los primeros 100 registros\n",
    "df.show(10)"
   ]
  },
  {
   "cell_type": "code",
   "execution_count": 2,
   "metadata": {},
   "outputs": [],
   "source": [
    "def save_json(df,collection):\n",
    "    json_rdd = df.toJSON()\n",
    "    collection = collection.lstrip('_')\n",
    "    output_path = \"./exports/\" + collection + \".json\"\n",
    "\n",
    "    json_data = json_rdd.collect()\n",
    "\n",
    "    with open(output_path, 'w') as f:\n",
    "        f.write('[\\n' + ',\\n'.join(json_data) + '\\n]')"
   ]
  },
  {
   "cell_type": "code",
   "execution_count": 8,
   "metadata": {},
   "outputs": [],
   "source": [
    "def get_dataframe(collection):\n",
    "    return spark.read \\\n",
    "            .format(\"mongo\") \\\n",
    "            .option(\"uri\", MONGO_URI) \\\n",
    "            .option(\"collection\", collection) \\\n",
    "            .option(\"partitioner\", \"MongoPaginateBySizePartitioner\") \\\n",
    "            .load()"
   ]
  },
  {
   "cell_type": "code",
   "execution_count": 9,
   "metadata": {},
   "outputs": [],
   "source": [
    "def save_parquet(df,collection,repartition=1):\n",
    "    output_path = \"./parquet/\" + collection\n",
    "    df.repartition(repartition).write.mode(\"overwrite\").parquet(output_path)\n"
   ]
  },
  {
   "cell_type": "code",
   "execution_count": 21,
   "metadata": {},
   "outputs": [],
   "source": [
    "def move_file(src_folder,dest_folder,new_filename):\n",
    "    new_filename = new_filename.lstrip('_')\n",
    "    for file_name in os.listdir(src_folder):\n",
    "        if file_name.endswith(\".parquet\"):\n",
    "            src_file_path = os.path.join(src_folder, file_name)\n",
    "            dest_file_path = os.path.join(dest_folder, new_filename + \".parquet\")\n",
    "            shutil.move(src_file_path, dest_file_path)\n",
    "            logging.info(f\"Archivo movido y renombrado a: {dest_file_path}\")\n",
    "            break"
   ]
  },
  {
   "cell_type": "code",
   "execution_count": 18,
   "metadata": {},
   "outputs": [],
   "source": [
    "def pipeline(collection,repartition = 1):\n",
    "    src_folder = \"./parquet/\" + collection\n",
    "    dest_folder = \"./exports\"\n",
    "    logging.info(f\"Reading Collection: {collection}\")\n",
    "    df = get_dataframe(collection)\n",
    "    logging.info(f\"Collection: {collection} succesfully fetched\")\n",
    "    save_parquet(df,collection,repartition)\n",
    "    logging.info(f\"Collection: {collection} succesfully saved\")\n",
    "    move_file(src_folder,dest_folder,collection)\n",
    "    logging.info(f\"Collection: {collection} succesfully moved to {dest_folder}\")"
   ]
  },
  {
   "cell_type": "code",
   "execution_count": 15,
   "metadata": {},
   "outputs": [
    {
     "name": "stderr",
     "output_type": "stream",
     "text": [
      "2024-09-30 10:18:38,381 - INFO - Reading Collection: State\n",
      "2024-09-30 10:18:42,859 - INFO - Collection: State succesfully fetched          \n",
      "2024-09-30 10:18:44,114 - INFO - Collection: State succesfully saved\n",
      "2024-09-30 10:18:44,117 - INFO - Collection: State succesfully moved to ./exports\n",
      "2024-09-30 10:18:44,119 - INFO - Reading Collection: Country\n"
     ]
    },
    {
     "name": "stdout",
     "output_type": "stream",
     "text": [
      "Archivo movido y renombrado a: ./exports/State.parquet\n"
     ]
    },
    {
     "name": "stderr",
     "output_type": "stream",
     "text": [
      "2024-09-30 10:18:46,029 - INFO - Collection: Country succesfully fetched\n",
      "2024-09-30 10:18:47,062 - INFO - Collection: Country succesfully saved\n",
      "2024-09-30 10:18:47,064 - INFO - Collection: Country succesfully moved to ./exports\n",
      "2024-09-30 10:18:47,066 - INFO - Reading Collection: Municipality\n"
     ]
    },
    {
     "name": "stdout",
     "output_type": "stream",
     "text": [
      "Archivo movido y renombrado a: ./exports/Country.parquet\n"
     ]
    },
    {
     "name": "stderr",
     "output_type": "stream",
     "text": [
      "2024-09-30 10:19:02,846 - INFO - Collection: Municipality succesfully fetched   \n",
      "2024-09-30 10:19:11,119 - INFO - Collection: Municipality succesfully saved     \n",
      "2024-09-30 10:19:11,121 - INFO - Collection: Municipality succesfully moved to ./exports\n",
      "2024-09-30 10:19:11,122 - INFO - Reading Collection: ZipCode\n"
     ]
    },
    {
     "name": "stdout",
     "output_type": "stream",
     "text": [
      "Archivo movido y renombrado a: ./exports/Municipality.parquet\n"
     ]
    },
    {
     "name": "stderr",
     "output_type": "stream",
     "text": [
      "2024-09-30 10:19:29,847 - INFO - Collection: ZipCode succesfully fetched        \n",
      "2024-09-30 10:19:49,232 - INFO - Collection: ZipCode succesfully saved          \n",
      "2024-09-30 10:19:49,235 - INFO - Collection: ZipCode succesfully moved to ./exports\n"
     ]
    },
    {
     "name": "stdout",
     "output_type": "stream",
     "text": [
      "Archivo movido y renombrado a: ./exports/ZipCode.parquet\n"
     ]
    }
   ],
   "source": [
    "collections = [\"State\",\"Country\",\"Municipality\",\"ZipCode\"]\n",
    "for collection in collections:\n",
    "    pipeline(collection)\n",
    "# Location, Pokcet Balance, User"
   ]
  },
  {
   "cell_type": "code",
   "execution_count": 19,
   "metadata": {},
   "outputs": [
    {
     "name": "stdout",
     "output_type": "stream",
     "text": [
      "Archivo movido y renombrado a: ./exports/PocketBalance.parquet\n"
     ]
    }
   ],
   "source": [
    "pipeline(\"PocketBalance\")\n"
   ]
  },
  {
   "cell_type": "code",
   "execution_count": 20,
   "metadata": {},
   "outputs": [
    {
     "name": "stderr",
     "output_type": "stream",
     "text": [
      "2024-09-30 10:24:58,775 - INFO - Reading Collection: _User\n",
      "2024-09-30 10:25:19,784 - INFO - Collection: _User succesfully fetched          \n",
      "24/09/30 10:25:19 WARN SparkStringUtils: Truncated the string representation of a plan since it was too large. This behavior can be adjusted by setting 'spark.sql.debug.maxToStringFields'.\n",
      "2024-09-30 10:31:29,288 - INFO - Collection: _User succesfully saved            \n",
      "2024-09-30 10:31:29,291 - INFO - Collection: _User succesfully moved to ./exports\n"
     ]
    },
    {
     "name": "stdout",
     "output_type": "stream",
     "text": [
      "Archivo movido y renombrado a: ./exports/_User.parquet\n"
     ]
    }
   ],
   "source": [
    "pipeline(\"_User\")"
   ]
  },
  {
   "cell_type": "markdown",
   "metadata": {},
   "source": [
    "### Location"
   ]
  },
  {
   "cell_type": "code",
   "execution_count": 26,
   "metadata": {},
   "outputs": [],
   "source": [
    "from pyspark.sql.types import StructType, StructField, StringType, TimestampType\n",
    "\n",
    "# Define el esquema manualmente, especificando las columnas void como StringType\n",
    "schema = StructType([\n",
    "    StructField(\"_created_at\", TimestampType(), True),\n",
    "    StructField(\"_id\", StringType(), True),\n",
    "    StructField(\"_p_country\", StringType(), True),\n",
    "    StructField(\"_p_municipality\", StringType(), True),\n",
    "    StructField(\"_p_state\", StringType(), True),\n",
    "    StructField(\"_p_user\", StringType(), True),\n",
    "    StructField(\"_p_zipCode\", StringType(), True),\n",
    "    StructField(\"_updated_at\", TimestampType(), True),\n",
    "    StructField(\"country\", StringType(), True),  # Aquí estaba void\n",
    "    StructField(\"countryName\", StringType(), True),\n",
    "    StructField(\"externalNumber\", StringType(), True),\n",
    "    StructField(\"internalNumber\", StringType(), True),\n",
    "    StructField(\"municipality\", StringType(), True),  # Aquí estaba void\n",
    "    StructField(\"municipalityName\", StringType(), True),\n",
    "    StructField(\"neighborhood\", StringType(), True),\n",
    "    StructField(\"state\", StringType(), True),  # Aquí estaba void\n",
    "    StructField(\"stateName\", StringType(), True),\n",
    "    StructField(\"street\", StringType(), True),\n",
    "    StructField(\"user\", StringType(), True),  # Aquí estaba void\n",
    "    StructField(\"zipCode\", StringType(), True),  # Aquí estaba void\n",
    "    StructField(\"zipCodeName\", StringType(), True)\n",
    "])\n"
   ]
  },
  {
   "cell_type": "code",
   "execution_count": 27,
   "metadata": {},
   "outputs": [],
   "source": [
    "df = spark.read \\\n",
    "            .format(\"mongo\") \\\n",
    "            .option(\"uri\", MONGO_URI) \\\n",
    "            .option(\"collection\", collection) \\\n",
    "            .option(\"partitioner\", \"MongoPaginateBySizePartitioner\") \\\n",
    "            .schema(schema) \\\n",
    "            .load()"
   ]
  },
  {
   "cell_type": "code",
   "execution_count": 28,
   "metadata": {},
   "outputs": [
    {
     "name": "stdout",
     "output_type": "stream",
     "text": [
      "root\n",
      " |-- _created_at: timestamp (nullable = true)\n",
      " |-- _id: string (nullable = true)\n",
      " |-- _p_country: string (nullable = true)\n",
      " |-- _p_municipality: string (nullable = true)\n",
      " |-- _p_state: string (nullable = true)\n",
      " |-- _p_user: string (nullable = true)\n",
      " |-- _p_zipCode: string (nullable = true)\n",
      " |-- _updated_at: timestamp (nullable = true)\n",
      " |-- country: string (nullable = true)\n",
      " |-- countryName: string (nullable = true)\n",
      " |-- externalNumber: string (nullable = true)\n",
      " |-- internalNumber: string (nullable = true)\n",
      " |-- municipality: string (nullable = true)\n",
      " |-- municipalityName: string (nullable = true)\n",
      " |-- neighborhood: string (nullable = true)\n",
      " |-- state: string (nullable = true)\n",
      " |-- stateName: string (nullable = true)\n",
      " |-- street: string (nullable = true)\n",
      " |-- user: string (nullable = true)\n",
      " |-- zipCode: string (nullable = true)\n",
      " |-- zipCodeName: string (nullable = true)\n",
      "\n"
     ]
    }
   ],
   "source": [
    "df.printSchema()"
   ]
  },
  {
   "cell_type": "code",
   "execution_count": 29,
   "metadata": {},
   "outputs": [
    {
     "name": "stderr",
     "output_type": "stream",
     "text": [
      "2024-09-30 10:55:04,709 - INFO - Collection: Location succesfully fetched\n",
      "2024-09-30 10:55:50,714 - INFO - Collection: Location succesfully saved         \n",
      "2024-09-30 10:55:50,717 - INFO - Archivo movido y renombrado a: ./exports/Location.parquet\n",
      "2024-09-30 10:55:50,718 - INFO - Collection: Location succesfully moved to ./exports\n"
     ]
    }
   ],
   "source": [
    "collection = \"Location\"\n",
    "src_folder = \"./parquet/\" + collection\n",
    "dest_folder = \"./exports\"\n",
    "logging.info(f\"Collection: {collection} succesfully fetched\")\n",
    "save_parquet(df,collection)\n",
    "logging.info(f\"Collection: {collection} succesfully saved\")\n",
    "move_file(src_folder,dest_folder,collection)\n",
    "logging.info(f\"Collection: {collection} succesfully moved to {dest_folder}\")"
   ]
  },
  {
   "cell_type": "markdown",
   "metadata": {},
   "source": [
    "### Transaction"
   ]
  },
  {
   "cell_type": "code",
   "execution_count": 30,
   "metadata": {},
   "outputs": [],
   "source": [
    "from pyspark.sql.types import (\n",
    "    StructType, StructField, StringType, BooleanType, DoubleType,\n",
    "    IntegerType, TimestampType, ArrayType, MapType\n",
    ")\n",
    "\n",
    "# Definimos el esquema\n",
    "schema = StructType([\n",
    "    StructField(\"_acl\", MapType(StringType(), StructType([\n",
    "        StructField(\"r\", BooleanType(), True),\n",
    "        StructField(\"w\", BooleanType(), True)\n",
    "    ])), True),\n",
    "    \n",
    "    StructField(\"_created_at\", TimestampType(), True),\n",
    "    StructField(\"_id\", StringType(), True),\n",
    "    StructField(\"_p_card\", StringType(), True),\n",
    "    StructField(\"_p_deposit\", StringType(), True),\n",
    "    StructField(\"_p_payer\", StringType(), True),\n",
    "    StructField(\"_p_payerImageLink\", StringType(), True),\n",
    "    StructField(\"_p_receiver\", StringType(), True),\n",
    "    StructField(\"_p_receiverGroup\", StringType(), True),\n",
    "    StructField(\"_p_receiverImageLink\", StringType(), True),\n",
    "    StructField(\"_p_swapCard\", StringType(), True),\n",
    "    StructField(\"_p_transactionCanceled\", StringType(), True),\n",
    "    \n",
    "    StructField(\"_rperm\", ArrayType(StringType(), True), True),\n",
    "    StructField(\"_updated_at\", TimestampType(), True),\n",
    "    StructField(\"_wperm\", ArrayType(StringType(), True), True),\n",
    "    \n",
    "    StructField(\"acceptAmex\", BooleanType(), True),\n",
    "    StructField(\"accumulatedAmountCharged\", DoubleType(), True),\n",
    "    StructField(\"accumulatedAmountCompensated\", DoubleType(), True),\n",
    "    StructField(\"accumulatedAmountReturned\", IntegerType(), True),\n",
    "    \n",
    "    StructField(\"address\", StringType(), True),\n",
    "    StructField(\"amount\", DoubleType(), True),\n",
    "    StructField(\"authentication\", StringType(), True),\n",
    "    StructField(\"authorizationNumber\", StringType(), True),\n",
    "    \n",
    "    StructField(\"bank\", StringType(), True),\n",
    "    StructField(\"bashEncrypt\", BooleanType(), True),\n",
    "    StructField(\"bin\", StringType(), True),\n",
    "    StructField(\"cardBrand\", StringType(), True),\n",
    "    StructField(\"cardId\", StringType(), True),\n",
    "    StructField(\"cardType\", StringType(), True),\n",
    "    \n",
    "    StructField(\"cashback\", IntegerType(), True),\n",
    "    StructField(\"category\", StringType(), True),\n",
    "    StructField(\"chargeback_category\", StringType(), True),\n",
    "    StructField(\"chargeback_date\", TimestampType(), True),\n",
    "    \n",
    "    StructField(\"conciliationType\", StringType(), True),\n",
    "    StructField(\"country\", StringType(), True),\n",
    "    StructField(\"currency\", StringType(), True),\n",
    "    StructField(\"depositDate\", TimestampType(), True),\n",
    "    StructField(\"description\", StringType(), True),\n",
    "    \n",
    "    StructField(\"deviceToken\", StringType(), True),\n",
    "    StructField(\"employee\", StringType(), True),  # Puedes ajustar si es void o tiene algún tipo específico\n",
    "    StructField(\"gateway\", StringType(), True),\n",
    "    StructField(\"gatewayFee\", DoubleType(), True),\n",
    "    \n",
    "    StructField(\"installments\", IntegerType(), True),\n",
    "    StructField(\"isInCondor\", BooleanType(), True),\n",
    "    StructField(\"isSwapGroupTransaction\", BooleanType(), True),\n",
    "    StructField(\"last4\", StringType(), True),\n",
    "    \n",
    "    StructField(\"location\", ArrayType(DoubleType(), True), True),\n",
    "    StructField(\"message\", StringType(), True),\n",
    "    StructField(\"mit\", StringType(), True),\n",
    "    StructField(\"movements\", ArrayType(StringType(), True), True),\n",
    "    \n",
    "    StructField(\"newBalance\", DoubleType(), True),\n",
    "    StructField(\"oldBalance\", DoubleType(), True),\n",
    "    StructField(\"originalMovement\", StringType(), True),\n",
    "    \n",
    "    StructField(\"payLater\", BooleanType(), True),\n",
    "    StructField(\"payedAt\", TimestampType(), True),\n",
    "    StructField(\"payerFee\", DoubleType(), True),\n",
    "    StructField(\"payerId\", StringType(), True),\n",
    "    StructField(\"payerName\", StringType(), True),\n",
    "    StructField(\"payerNewBalance\", DoubleType(), True),\n",
    "    StructField(\"payerOldBalance\", DoubleType(), True),\n",
    "    \n",
    "    StructField(\"provider\", StringType(), True),\n",
    "    StructField(\"reaction\", StringType(), True),\n",
    "    StructField(\"receiverFee\", DoubleType(), True),\n",
    "    StructField(\"receiverId\", StringType(), True),\n",
    "    StructField(\"receiverName\", StringType(), True),\n",
    "    StructField(\"receiverNewBalance\", DoubleType(), True),\n",
    "    StructField(\"receiverOldBalance\", DoubleType(), True),\n",
    "    \n",
    "    StructField(\"requestId\", StringType(), True),\n",
    "    StructField(\"requestIp\", StringType(), True),\n",
    "    StructField(\"retrievalReference\", StringType(), True),\n",
    "    StructField(\"slackId\", StringType(), True),\n",
    "    StructField(\"source\", StringType(), True),\n",
    "    \n",
    "    StructField(\"state\", StringType(), True),\n",
    "    StructField(\"status\", StringType(), True),\n",
    "    StructField(\"tenant\", StringType(), True),\n",
    "    StructField(\"terminalIdentification\", StringType(), True),\n",
    "    StructField(\"tip\", IntegerType(), True),\n",
    "    \n",
    "    StructField(\"token\", StringType(), True),\n",
    "    StructField(\"transactionType\", StringType(), True),\n",
    "    StructField(\"transactionalSession\", StringType(), True),\n",
    "    StructField(\"url\", StringType(), True)\n",
    "])"
   ]
  },
  {
   "cell_type": "code",
   "execution_count": 31,
   "metadata": {},
   "outputs": [],
   "source": [
    "collection = \"Transaction\"\n",
    "\n",
    "df = spark.read.schema(schema).format(\"mongo\").option(\"uri\", MONGO_URI).option(\"collection\", collection).option(\"partitioner\", \"MongoPaginateBySizePartitioner\").load()"
   ]
  },
  {
   "cell_type": "code",
   "execution_count": 6,
   "metadata": {},
   "outputs": [
    {
     "name": "stderr",
     "output_type": "stream",
     "text": [
      "24/09/27 14:11:07 WARN SparkStringUtils: Truncated the string representation of a plan since it was too large. This behavior can be adjusted by setting 'spark.sql.debug.maxToStringFields'.\n",
      "                                                                                \r"
     ]
    },
    {
     "name": "stdout",
     "output_type": "stream",
     "text": [
      "+--------------------+--------------------+----------+---------------+------------------+----------------+-----------------+----------------+----------------+--------------------+-------------------+----------------------+--------------------+--------------------+------+----------+------------------------+----------------------------+-------------------------+-------+------+--------------+-------------------+-------------+-----------+--------+-------------+------+-------------+--------+------------+-------------------+---------------+----------------+-------------+--------+-----------+--------------------+--------------------+--------+-------+----------+------------+----------+----------------------+-----+--------------------+--------------------+----+-----------+----------+----------+----------------+--------+--------------------+--------+----------+--------------------+---------------+---------------+--------+--------+-----------+--------------------+--------------------+------------------+------------------+---------+--------------------+------------------+-------+------+----------------+--------+------+----------------------+----+--------------------+---------------+--------------------+--------------------+\n",
      "|                _acl|         _created_at|       _id|        _p_card|        _p_deposit|        _p_payer|_p_payerImageLink|     _p_receiver|_p_receiverGroup|_p_receiverImageLink|        _p_swapCard|_p_transactionCanceled|              _rperm|         _updated_at|_wperm|acceptAmex|accumulatedAmountCharged|accumulatedAmountCompensated|accumulatedAmountReturned|address|amount|authentication|authorizationNumber|         bank|bashEncrypt|     bin|    cardBrand|cardId|     cardType|cashback|    category|chargeback_category|chargeback_date|conciliationType|      country|currency|depositDate|         description|         deviceToken|employee|gateway|gatewayFee|installments|isInCondor|isSwapGroupTransaction|last4|            location|             message| mit|  movements|newBalance|oldBalance|originalMovement|payLater|             payedAt|payerFee|   payerId|           payerName|payerNewBalance|payerOldBalance|provider|reaction|receiverFee|          receiverId|        receiverName|receiverNewBalance|receiverOldBalance|requestId|           requestIp|retrievalReference|slackId|source|           state|  status|tenant|terminalIdentification| tip|               token|transactionType|transactionalSession|                 url|\n",
      "+--------------------+--------------------+----------+---------------+------------------+----------------+-----------------+----------------+----------------+--------------------+-------------------+----------------------+--------------------+--------------------+------+----------+------------------------+----------------------------+-------------------------+-------+------+--------------+-------------------+-------------+-----------+--------+-------------+------+-------------+--------+------------+-------------------+---------------+----------------+-------------+--------+-----------+--------------------+--------------------+--------+-------+----------+------------+----------+----------------------+-----+--------------------+--------------------+----+-----------+----------+----------+----------------+--------+--------------------+--------+----------+--------------------+---------------+---------------+--------+--------+-----------+--------------------+--------------------+------------------+------------------+---------+--------------------+------------------+-------+------+----------------+--------+------+----------------------+----+--------------------+---------------+--------------------+--------------------+\n",
      "|{D9januSyqu -> {t...|2023-01-08 03:24:...|0000aSpBLp|           NULL|Deposit$UGTnH99jHF|_User$D9januSyqu| Image$kJbTVHntY9|            NULL|            NULL|    Image$l4eOWjw9fn|               NULL|                  NULL|        [D9januSyqu]|2023-02-16 08:25:...|    []|      NULL|                    NULL|                        NULL|                     NULL|   NULL|2000.0|         token|               NULL|          STP|       true|    NULL|        Saldo|  NULL|PocketBalance|       0|    Transfer|               NULL|           NULL|            NULL|United States|     MXN|       NULL|       Pago por Swap|F1D2AE1FB74042B9B...|    NULL|   NULL|      NULL|        NULL|      true|                  NULL| Swap|[-112.18529689206...|                NULL|NULL|       NULL|      NULL|      NULL|            NULL|    NULL|2023-01-08 03:24:...|     0.0|D9januSyqu|Ramon Ernesto Bus...|        3000.46|        5000.46|    NULL|    NULL|        0.0|12e721143ba673b50...|ramon ernesto bus...|              NULL|              NULL|     NULL|174.240.18.128, 1...|              NULL|   NULL|  NULL|         Arizona|    paid|  Swap|                  NULL|NULL|                NULL| user2recipient|15C6esoVN5UAL03fx...|                NULL|\n",
      "|{4nv9uM4iu1 -> {t...|2020-12-01 11:47:...|0002WrtM6i|           NULL|              NULL|_User$4nv9uM4iu1| Image$0SUprmYfqe|            NULL|            NULL|    Image$l4eOWjw9fn|               NULL|                  NULL|        [4nv9uM4iu1]|2020-12-01 11:53:...|    []|      NULL|                    NULL|                        NULL|                     NULL|   NULL| 150.0| not_specified|               NULL|         NULL|       NULL|    NULL|        Saldo|  NULL|PocketBalance|    NULL|    Transfer|               NULL|           NULL|            NULL|         NULL|     MXN|       NULL|     INNO150W1DICBKM|B752837FACA94531B...|    NULL|   NULL|      NULL|        NULL|      true|                  NULL| Swap|          [0.0, 0.0]|                NULL|NULL|       NULL|    5240.0|    5390.0|            NULL|    NULL|2020-12-01 11:47:...|     0.0|4nv9uM4iu1|     Grupo Mybiz Sas|           NULL|           NULL|    NULL|    NULL|        0.0| swap@grupomybiz.com|        Swap | BGBES|              NULL|              NULL|     NULL|177.247.71.186, 1...|              NULL|   NULL|  NULL|            NULL|canceled|  NULL|                  NULL|NULL|                NULL|     User2Email|                    |                NULL|\n",
      "|{tPl2Ht0SVy -> {t...|2022-11-25 01:27:...|0002uhBCb9|           NULL|              NULL|            NULL| Image$l4eOWjw9fn|_User$tPl2Ht0SVy|            NULL|    Image$yZwJKEqOof|               NULL|                  NULL|        [tPl2Ht0SVy]|2022-11-25 01:27:...|    []|      NULL|                    NULL|                        NULL|                     NULL|   NULL|   5.0|          NULL|               NULL|         NULL|       NULL|    NULL|PocketBalance|  NULL|PocketBalance|    NULL| SignupBonus|               NULL|           NULL|            NULL|         NULL|     MXN|       NULL|Creación de cuent...|                NULL|    NULL|   swap|      NULL|        NULL|      true|                  NULL| Swap|                NULL|                NULL|NULL|       NULL|      NULL|      NULL|            NULL|    NULL|2022-11-25 01:27:...|    NULL|      Swap|         Equipo Swap|           NULL|           NULL|    NULL|    NULL|        0.0|          tPl2Ht0SVy|Miguel Angel Sanchez|               5.0|               0.0|     NULL|           127.0.0.1|              NULL|   NULL|  NULL|            NULL|    paid|  NULL|                  NULL|NULL|                NULL|      swap2user|                NULL|                NULL|\n",
      "|{U2BoA7T4Gq -> {t...|2023-07-24 12:41:...|00043AisY2|           NULL|              NULL|_User$U2BoA7T4Gq| Image$En17x6at9H|            NULL|            NULL|    Image$xVUqc5zuOa|SwapCard$J3qPwbCmKU|                  NULL|        [U2BoA7T4Gq]|2023-08-01 12:50:...|    []|      NULL|                    NULL|                      109.99|                     NULL|   NULL|109.99|          NULL|             330387|         NULL|       NULL|    NULL|         Visa|  NULL|         Swap|    NULL|        4121|               NULL|           NULL|     compensated|         NULL|     MXN|       NULL|              Compra|                NULL|    NULL|   swap|      NULL|        NULL|      true|                  NULL| 1469|                NULL|                NULL| 200|[167179477]|      NULL|      NULL|       167022942|    NULL|2023-07-24 12:41:...|    NULL|U2BoA7T4Gq|Alberto Felipe Ra...|         441.34|         551.33|    NULL|    NULL|        0.0|    00000001        |   STRIPE *UBER TRIP|              NULL|              NULL|     NULL|108.163.135.133, ...|      320509034885|   NULL|  NULL|            NULL|    paid|  NULL|      00000001        |NULL|        320509034885|       SwapCard|                NULL|                NULL|\n",
      "|{WWA3xWfGHm -> {t...|2020-07-28 14:14:...|0004rPOMUa|           NULL|Deposit$r6yCr2rWee|_User$WWA3xWfGHm| Image$ZRBxIT9MJx|            NULL|            NULL|    Image$l4eOWjw9fn|               NULL|                  NULL|        [WWA3xWfGHm]|2020-07-28 14:14:...|    []|      NULL|                    NULL|                        NULL|                     NULL|   NULL| 400.0|          NULL|               NULL|         NULL|       NULL|    NULL|        Saldo|  NULL|PocketBalance|    NULL|    Transfer|               NULL|           NULL|            NULL|         NULL|     MXN|       NULL|Pago números 23 y...|D2512E7FB194487DA...|    NULL|   NULL|      NULL|        NULL|      true|                  NULL| Swap|                NULL|                NULL|NULL|       NULL|     301.0|     701.0|            NULL|    NULL|2020-07-28 14:14:...|     0.0|WWA3xWfGHm|      Raul Gutierrez|           NULL|           NULL|    NULL|    NULL|        0.0|    4152313519048370|     Rifa Alex Solis|              NULL|              NULL|     NULL|187.190.116.23, 1...|              NULL|   NULL|  NULL|            NULL|    paid|  NULL|                  NULL|NULL|                NULL|           NULL|                NULL|                NULL|\n",
      "|{HMVTvlP6qz -> {t...|2019-01-23 18:45:...|0007fHxetG|           NULL|              NULL|_User$HMVTvlP6qz| Image$HBqvvM1Mj2|            NULL|            NULL|    Image$l4eOWjw9fn|               NULL|                  NULL|        [HMVTvlP6qz]|2019-01-23 18:45:...|    []|      NULL|                    NULL|                        NULL|                     NULL|       |   5.0|          NULL|               NULL|         NULL|       NULL|    NULL|         NULL|  NULL|         NULL|    NULL|    Transfer|               NULL|           NULL|            NULL|         NULL|     MXN|       NULL|                    |    1d883fa7472d2e75|    NULL|   NULL|      NULL|        NULL|      true|                  NULL| NULL|          [0.0, 0.0]|            no_funds|NULL|       NULL|      NULL|      NULL|            NULL|    NULL|                NULL|    NULL|HMVTvlP6qz|  Miguel ÁNgel Ortiz|           NULL|           NULL|    NULL|    NULL|        0.0|      +5213111756475|             Hermano|              NULL|              NULL|     NULL|                NULL|              NULL|   NULL|  NULL|            NULL|  failed|  NULL|                  NULL|NULL|                NULL|           NULL|                NULL|                NULL|\n",
      "|{9a8FsQRsT4 -> {t...|2023-02-26 10:00:...|000AtxE5YI|           NULL|              NULL|            NULL| Image$l4eOWjw9fn|_User$9a8FsQRsT4|            NULL|    Image$a2XZemIsuL|               NULL|                  NULL|        [9a8FsQRsT4]|2023-02-26 10:00:...|    []|      NULL|                    NULL|                        NULL|                     NULL|   NULL|   5.0|          NULL|               NULL|         NULL|       NULL|    NULL|PocketBalance|  NULL|PocketBalance|    NULL| ExpiredLink|               NULL|           NULL|            NULL|         NULL|     MXN|       NULL|Expiración de lig...|                NULL|    NULL|   swap|      NULL|        NULL|      true|                  NULL| Swap|                NULL|                NULL|NULL|       NULL|      NULL|      NULL|            NULL|    NULL|2023-02-26 10:00:...|    NULL|      Swap|         Equipo Swap|           NULL|           NULL|    NULL|    NULL|        0.0|          9a8FsQRsT4|    Patricia Mendoza|               5.0|               0.0|     NULL|           127.0.0.1|              NULL|   NULL|  NULL|            NULL|    paid|  NULL|                  NULL|NULL|                NULL|      swap2user|                NULL|                NULL|\n",
      "|{KdeXB2XVKg -> {t...|2021-11-02 01:06:...|000GAbAIwU|Card$ASB3QNQE50|              NULL|_User$KdeXB2XVKg| Image$3uj3b88r43|            NULL|            NULL|    Image$l4eOWjw9fn|               NULL|                  NULL|        [KdeXB2XVKg]|2021-11-02 01:07:...|    []|      NULL|                    NULL|                        NULL|                     NULL|   NULL| 525.0|         TOKEN|               NULL|BBVA Bancomer|       NULL|  415231|         Visa|  NULL|        DEBIT|       0|    Transfer|               NULL|           NULL|            NULL|         NULL|     MXN|       NULL|       Pago por Swap|    181e58d08e61dbcf|    NULL|affipay|       7.0|        NULL|      true|                  NULL| 1815|[-103.44052645604...|                NULL|NULL|       NULL|      NULL|      NULL|            NULL|    NULL|2021-11-02 01:06:...|     0.0|KdeXB2XVKg|   Leonardo Bañuelos|            0.0|            0.0|    NULL|    NULL|        0.0|             Swapkey|             Swapkey|              NULL|              NULL|     NULL|189.163.48.152, 1...|        d1BilQmqmr|   NULL|  NULL|            NULL|canceled|  NULL|                  NULL|NULL|              923774|   card2swapkey|OvxWvoTo2y9zwAFeP...|https://swap.mx/c...|\n",
      "|{Ox5xCDo8Nv -> {t...|2023-05-18 11:25:...|000HA8DbDX|           NULL|              NULL|_User$Ox5xCDo8Nv| Image$rX39laN0dM|_User$Ox5xCDo8Nv|            NULL|    Image$rX39laN0dM|               NULL|                  NULL|        [Ox5xCDo8Nv]|2023-05-18 11:25:...|    []|      NULL|                    NULL|                        NULL|                     NULL|   NULL| 500.0|         TOKEN|               NULL|         NULL|       true|    NULL|         NULL|  NULL|         NULL|       0|    Transfer|               NULL|           NULL|            NULL|       Mexico|     MXN|       NULL|  Pago de servicios |    8acc48f21a4c1ad1|    NULL|   NULL|      NULL|        NULL|     false|                  NULL| NULL|[-98.1982317, 19....|La transferencia ...|NULL|       NULL|      NULL|      NULL|            NULL|    NULL|                NULL|    17.4|Ox5xCDo8Nv|   Felix Esli George|           NULL|           NULL|    NULL|    NULL|        0.0|          Ox5xCDo8Nv|   Felix Esli George|              NULL|              NULL|     NULL|200.68.169.42, 10...|              NULL|   NULL|  NULL|        Tlaxcala|  failed|  Swap|                  NULL|NULL|                NULL|      card2user|6PjWGOHfUjbCgVcMG...|                NULL|\n",
      "|{COVuXAWByS -> {t...|2022-07-23 21:33:...|000NvB9WJV|           NULL|Deposit$pxJTAR3Aet|_User$COVuXAWByS| Image$QmUxDIKvZ1|            NULL|            NULL|    Image$l4eOWjw9fn|               NULL|                  NULL|        [COVuXAWByS]|2022-07-23 21:34:...|    []|      NULL|                    NULL|                        NULL|                     NULL|   NULL| 23.36|         TOKEN|               NULL|         NULL|       NULL|    NULL|        Saldo|  NULL|PocketBalance|       0|    Transfer|               NULL|           NULL|            NULL|         NULL|     MXN|       NULL|       Pago por Swap|    33641c981289c25d|    NULL|   NULL|      NULL|        NULL|      true|                  NULL| Swap|          [0.0, 0.0]|                NULL|NULL|       NULL|      NULL|      NULL|            NULL|    NULL|2022-07-23 21:34:...|     0.0|COVuXAWByS|Carlos Alberto Ba...|            0.0|          23.36|    NULL|    NULL|        0.0|  646180192180465265|                Klar|              NULL|              NULL|     NULL|187.143.106.125, ...|              NULL|   NULL|  NULL|            NULL|    paid|  NULL|                  NULL|NULL|                NULL| user2recipient|u8AV9CTZPTt1PS+Cv...|                NULL|\n",
      "|{Z2MtVwdPLB -> {t...|2019-05-23 00:26:...|000jqxAqxW|           NULL|              NULL|_User$Kkk5fe6xBx| Image$o3jtBFYMH1|_User$Z2MtVwdPLB|            NULL|    Image$5A1eta5SCh|               NULL|                  NULL|[Kkk5fe6xBx, Z2Mt...|2019-05-23 00:26:...|    []|      NULL|                    NULL|                        NULL|                     NULL|   NULL| 500.0|          NULL|               NULL|         NULL|       NULL|    NULL|         NULL|  NULL|         NULL|    NULL|    Transfer|               NULL|           NULL|            NULL|         NULL|     MXN|       NULL|                    |8565869B253142548...|    NULL|   NULL|      NULL|        NULL|      true|                  NULL| NULL|                NULL|Your card was dec...|NULL|       NULL|      NULL|      NULL|            NULL|    NULL|                NULL|    NULL|Kkk5fe6xBx|    Gonzalo Martinez|           NULL|           NULL|    NULL|    NULL|        0.0|          Z2MtVwdPLB|   Estefania Cardoso|              NULL|              NULL|     NULL|      189.216.49.148|              NULL|   NULL|  NULL|            NULL|  failed|  NULL|                  NULL|NULL|                NULL|           NULL|                NULL|                NULL|\n",
      "|{EoDoG2ljSM -> {t...|2023-06-06 17:49:...|000pNquzEK|Card$srnDtTbHNV|Deposit$Objyaom97m|_User$EoDoG2ljSM| Image$GQ3gK1LnjR|            NULL|            NULL|    Image$l4eOWjw9fn|               NULL|                  NULL|        [EoDoG2ljSM]|2023-06-06 17:50:...|    []|      NULL|                    NULL|                        NULL|                     NULL|   NULL| 500.0|         token|               NULL|BBVA Bancomer|       true|52677788|   MasterCard|  NULL|       CREDIT|       0|    Transfer|               NULL|           NULL|            NULL|       Mexico|     MXN|       NULL|       Pago por Swap|7C403593DDBC445B8...|    NULL|conekta|     13.43|        NULL|     false|                  NULL| 6035|[-99.272576329759...|                NULL|NULL|       NULL|      NULL|      NULL|            NULL|    NULL|2023-06-06 17:50:...|    17.4|EoDoG2ljSM|       Daniel Lozano|          36.62|          36.62|    NULL|    NULL|        0.0|14e225143ba672b40...| Daniel Lozano Giral|              NULL|              NULL|     NULL|200.68.173.178, 1...|              NULL|   NULL|  NULL|Ciudad de México|    paid|  Swap|                  NULL|NULL|647f9bd208ed15001...| card2recipient|CC0Q+fCOikRF1EQqP...|                NULL|\n",
      "|{fNF9e86VFF -> {t...|2023-08-25 02:49:...|000rbuVfyq|           NULL|Deposit$b0gsU5zE1I|_User$fNF9e86VFF| Image$pOYjAOq2SI|            NULL|            NULL|    Image$l4eOWjw9fn|               NULL|                  NULL|        [fNF9e86VFF]|2023-08-25 02:49:...|    []|      NULL|                    NULL|                        NULL|                     NULL|   NULL|2000.0|         TOKEN|               NULL|          STP|       true|    NULL|        Saldo|  NULL|PocketBalance|       0|    Transfer|               NULL|           NULL|            NULL|       Mexico|     MXN|       NULL|       Pago por Swap|    4891212f5de9967c|    NULL|   NULL|      NULL|        NULL|      true|                  NULL| Swap|[-99.2077267, 18....|                NULL|NULL|       NULL|      NULL|      NULL|            NULL|    NULL|2023-08-25 02:49:...|     0.0|fNF9e86VFF|   Emmanuel Martinez|            0.0|         2000.0|    NULL|    NULL|        0.0|12e7211532a570b50...|                  ML|              NULL|              NULL|     NULL|187.225.95.151, 1...|              NULL|   NULL|  NULL|         Morelos|    paid|  Swap|                  NULL|NULL|                NULL| user2recipient|HXwx3si6LyVMAzoc+...|                NULL|\n",
      "|{PkLVrbej5E -> {t...|2018-01-30 20:46:...|000tXanF1x|           NULL|              NULL|            NULL| Image$qHYu7DN0CM|            NULL|            NULL|    Image$l4eOWjw9fn|               NULL|                  NULL|        [PkLVrbej5E]|2018-01-30 20:46:...|    []|      NULL|                    NULL|                        NULL|                     NULL|   NULL| 100.0|          NULL|               NULL|         NULL|       NULL|    NULL|         NULL|  NULL|         NULL|    NULL|    Transfer|               NULL|           NULL|            NULL|         NULL|     MXN|       NULL|             Tu pago|BB28A5EC30594A10A...|    NULL|   NULL|      NULL|        NULL|      true|                  NULL| NULL|                NULL|    declined_by_bank|NULL|       NULL|      NULL|      NULL|            NULL|    NULL|                NULL|    NULL|PkLVrbej5E|   Elías Rubén Garza|           NULL|           NULL|    NULL|    NULL|        0.0|  012180015549935788| 012180015549935788 |              NULL|              NULL|     NULL|                NULL|              NULL|   NULL|  NULL|            NULL|  failed|  NULL|                  NULL|NULL|                NULL|           NULL|                NULL|                NULL|\n",
      "|{oMigBFOCGw -> {t...|2023-02-16 00:02:...|000wkoe3RR|           NULL|              NULL|_User$oMigBFOCGw| Image$Qq4UAHUFf2|            NULL|            NULL|    Image$xVUqc5zuOa|SwapCard$14aOEWYxUg|                  NULL|        [oMigBFOCGw]|2023-02-16 00:02:...|    []|      NULL|                    NULL|                        NULL|                     NULL|   NULL|  12.0|          NULL|               NULL|         NULL|       NULL|    NULL|         Visa|  NULL|         Swap|    NULL|        5399|               NULL|           NULL|            NULL|         NULL|     MXN|       NULL|              Compra|                NULL|    NULL|   swap|      NULL|        NULL|      true|                  NULL| 2065|                NULL|            no_funds| 200|       NULL|      NULL|      NULL|            NULL|    NULL|2023-02-16 00:02:...|    NULL|oMigBFOCGw|Usiel De Jesus Me...|            5.0|            5.0|    NULL|    NULL|        0.0|    79038401        |  PAYPAL *4029357733|              NULL|              NULL|     NULL|108.163.135.133, ...|      920150598152|   NULL|  NULL|            NULL|  failed|  NULL|      79038401        |NULL|        920150598152|       SwapCard|                NULL|                NULL|\n",
      "|{qwALpcJW6K -> {t...|2021-08-09 06:45:...|000yaVir2Y|           NULL|              NULL|            NULL| Image$l4eOWjw9fn|_User$qwALpcJW6K|            NULL|    Image$VqrXfaHBVs|               NULL|                  NULL|        [qwALpcJW6K]|2021-08-09 06:45:...|    []|      NULL|                    NULL|                        NULL|                     NULL|   NULL|  20.0|          NULL|               NULL|         NULL|       NULL|    NULL|PocketBalance|  NULL|PocketBalance|    NULL| SignupBonus|               NULL|           NULL|            NULL|         NULL|     MXN|       NULL|Creación de cuent...|                NULL|    NULL|   swap|      NULL|        NULL|      true|                  NULL| Swap|                NULL|                NULL|NULL|       NULL|      NULL|      NULL|            NULL|    NULL|2021-08-09 06:45:...|    NULL|      Swap|         Equipo Swap|           NULL|           NULL|    NULL|    NULL|        0.0|          qwALpcJW6K|  Blanca Maria Reyna|              20.0|               0.0|     NULL|           127.0.0.1|              NULL|   NULL|  NULL|            NULL|    paid|  NULL|                  NULL|NULL|                NULL|      swap2user|                NULL|                NULL|\n",
      "|{KvqXrCQ7y9 -> {t...|2021-10-24 15:58:...|0012DbNBav|           NULL|              NULL|            NULL| Image$24cYhuCHhF|_User$KvqXrCQ7y9|            NULL|    Image$HllERSuFPf|               NULL|  Transaction$LunuE...|        [KvqXrCQ7y9]|2021-10-24 15:58:...|    []|      NULL|                    NULL|                        NULL|                     NULL|   NULL|2130.0|          NULL|               NULL|         NULL|       NULL|    NULL|PocketBalance|  NULL|PocketBalance|    NULL|      Return|               NULL|           NULL|            NULL|         NULL|     MXN|       NULL|     Devolución SPEI|                NULL|    NULL|   swap|      NULL|        NULL|      true|                  NULL| Swap|                NULL|                NULL|NULL|       NULL|      NULL|      NULL|            NULL|    NULL|2021-10-24 15:58:...|    NULL|      Swap|         Equipo Swap|           NULL|           NULL|     STP|    NULL|        0.0|          KvqXrCQ7y9|Casandra Yamili H...|           2130.05|              0.05|     NULL|           127.0.0.1|              NULL|   NULL|  NULL|            NULL|    paid|  NULL|                  NULL|NULL|                NULL|      swap2user|                NULL|                NULL|\n",
      "|{aMGNwjWRqN -> {t...|2022-10-21 23:39:...|001702qpIS|Card$fJxrpyfbj8|              NULL|_User$aMGNwjWRqN| Image$iiicAAGp0T|_User$aMGNwjWRqN|            NULL|    Image$iiicAAGp0T|               NULL|                  NULL|        [aMGNwjWRqN]|2022-10-21 23:39:...|    []|      NULL|                    NULL|                        NULL|                     NULL|   NULL| 400.0|         TOKEN|               NULL|         NULL|       true|    NULL|         NULL|  NULL|         NULL|       0|    Transfer|               NULL|           NULL|            NULL|         NULL|     MXN|       NULL|           Regalo 23|    88ad0b07bdcf9989|    NULL|conekta|      NULL|        NULL|      true|                  NULL| NULL|[-100.5895801, 25...|La tarjeta fue de...|NULL|       NULL|      NULL|      NULL|            NULL|    NULL|                NULL|     0.0|aMGNwjWRqN|Freddy Antonio Lopez|           NULL|           NULL|    NULL|    NULL|        0.0|          aMGNwjWRqN|Freddy Antonio Lopez|              NULL|              NULL|     NULL|192.141.246.133, ...|              NULL|   NULL|  NULL|            NULL|  failed|  Swap|                  NULL|NULL|                NULL|      card2user|OBsuGNj2da67twRIw...|                NULL|\n",
      "|{eAQ5zqzYMH -> {t...|2023-11-08 00:36:...|001AwEWLrD|Card$K0uGzrcNIQ|              NULL|_User$eAQ5zqzYMH| Image$JGnJU3Y7Rl|            NULL|            NULL|    Image$l4eOWjw9fn|               NULL|                  NULL|        [eAQ5zqzYMH]|2023-11-08 00:36:...|    []|      NULL|                    NULL|                        NULL|                     NULL|   NULL| 11.12|          NULL|               NULL|    Santander|       NULL|    NULL|   mastercard|  NULL|       CREDIT|    NULL|RandomCharge|               NULL|           NULL|            NULL|         NULL|     MXN|       NULL|Validación de tar...|                NULL|    NULL|conekta|       0.8|        NULL|     false|                  NULL| 1834|                NULL|                NULL|NULL|       NULL|      NULL|      NULL|            NULL|    NULL|2023-11-08 00:36:...|     0.0|eAQ5zqzYMH| Cesar Alfredo Novoa|            0.0|            0.0|    NULL|    NULL|        0.0|                Swap|         Equipo Swap|              NULL|              NULL|     NULL|187.244.102.176, ...|              NULL|   NULL|  NULL|            NULL|    paid|  NULL|                  NULL|NULL|654b0237e18dde001...|      card2swap|                NULL|                NULL|\n",
      "|{6OPCsArlmx -> {t...|2022-02-08 15:29:...|001EOCJ8ue|           NULL|Deposit$NpLx2aAUH0|_User$6OPCsArlmx| Image$5GI8xHDbHv|            NULL|            NULL|    Image$l4eOWjw9fn|               NULL|                  NULL|        [6OPCsArlmx]|2022-02-08 15:29:...|    []|      NULL|                    NULL|                        NULL|                     NULL|   NULL|  20.0|         TOKEN|               NULL|         NULL|       NULL|    NULL|        Saldo|  NULL|PocketBalance|       0|    Transfer|               NULL|           NULL|            NULL|         NULL|     MXN|       NULL|       Pago por Swap|    42262b8e46afc4a1|    NULL|   NULL|      NULL|        NULL|      true|                  NULL| Swap|[-91.9831981, 17....|                NULL|NULL|       NULL|      NULL|      NULL|            NULL|    NULL|2022-02-08 15:29:...|     0.0|6OPCsArlmx|     Enrique Sanchez|          25.01|          45.01|    NULL|    NULL|        0.0|    5263540120231903|mi Banco Azteca-1903|              NULL|              NULL|     NULL|201.132.247.13, 1...|              NULL|   NULL|  NULL|            NULL|    paid|  NULL|                  NULL|NULL|                NULL|      user2card|5IFg0tFB9NyPLRor+...|                NULL|\n",
      "+--------------------+--------------------+----------+---------------+------------------+----------------+-----------------+----------------+----------------+--------------------+-------------------+----------------------+--------------------+--------------------+------+----------+------------------------+----------------------------+-------------------------+-------+------+--------------+-------------------+-------------+-----------+--------+-------------+------+-------------+--------+------------+-------------------+---------------+----------------+-------------+--------+-----------+--------------------+--------------------+--------+-------+----------+------------+----------+----------------------+-----+--------------------+--------------------+----+-----------+----------+----------+----------------+--------+--------------------+--------+----------+--------------------+---------------+---------------+--------+--------+-----------+--------------------+--------------------+------------------+------------------+---------+--------------------+------------------+-------+------+----------------+--------+------+----------------------+----+--------------------+---------------+--------------------+--------------------+\n",
      "only showing top 20 rows\n",
      "\n"
     ]
    }
   ],
   "source": [
    "df.show()"
   ]
  },
  {
   "cell_type": "code",
   "execution_count": 32,
   "metadata": {},
   "outputs": [
    {
     "name": "stdout",
     "output_type": "stream",
     "text": [
      "81\n"
     ]
    }
   ],
   "source": [
    "print(len(df.columns))\n"
   ]
  },
  {
   "cell_type": "code",
   "execution_count": 5,
   "metadata": {},
   "outputs": [
    {
     "name": "stdout",
     "output_type": "stream",
     "text": [
      "root\n",
      " |-- _acl: map (nullable = true)\n",
      " |    |-- key: string\n",
      " |    |-- value: struct (valueContainsNull = true)\n",
      " |    |    |-- r: boolean (nullable = true)\n",
      " |    |    |-- w: boolean (nullable = true)\n",
      " |-- _created_at: timestamp (nullable = true)\n",
      " |-- _id: string (nullable = true)\n",
      " |-- _p_card: string (nullable = true)\n",
      " |-- _p_deposit: string (nullable = true)\n",
      " |-- _p_payer: string (nullable = true)\n",
      " |-- _p_payerImageLink: string (nullable = true)\n",
      " |-- _p_receiver: string (nullable = true)\n",
      " |-- _p_receiverGroup: string (nullable = true)\n",
      " |-- _p_receiverImageLink: string (nullable = true)\n",
      " |-- _p_swapCard: string (nullable = true)\n",
      " |-- _p_transactionCanceled: string (nullable = true)\n",
      " |-- _rperm: array (nullable = true)\n",
      " |    |-- element: string (containsNull = true)\n",
      " |-- _updated_at: timestamp (nullable = true)\n",
      " |-- _wperm: array (nullable = true)\n",
      " |    |-- element: string (containsNull = true)\n",
      " |-- acceptAmex: boolean (nullable = true)\n",
      " |-- accumulatedAmountCharged: double (nullable = true)\n",
      " |-- accumulatedAmountCompensated: double (nullable = true)\n",
      " |-- accumulatedAmountReturned: integer (nullable = true)\n",
      " |-- address: string (nullable = true)\n",
      " |-- amount: double (nullable = true)\n",
      " |-- authentication: string (nullable = true)\n",
      " |-- authorizationNumber: string (nullable = true)\n",
      " |-- bank: string (nullable = true)\n",
      " |-- bashEncrypt: boolean (nullable = true)\n",
      " |-- bin: string (nullable = true)\n",
      " |-- cardBrand: string (nullable = true)\n",
      " |-- cardId: string (nullable = true)\n",
      " |-- cardType: string (nullable = true)\n",
      " |-- cashback: integer (nullable = true)\n",
      " |-- category: string (nullable = true)\n",
      " |-- chargeback_category: string (nullable = true)\n",
      " |-- chargeback_date: timestamp (nullable = true)\n",
      " |-- conciliationType: string (nullable = true)\n",
      " |-- country: string (nullable = true)\n",
      " |-- currency: string (nullable = true)\n",
      " |-- depositDate: timestamp (nullable = true)\n",
      " |-- description: string (nullable = true)\n",
      " |-- deviceToken: string (nullable = true)\n",
      " |-- employee: string (nullable = true)\n",
      " |-- gateway: string (nullable = true)\n",
      " |-- gatewayFee: double (nullable = true)\n",
      " |-- installments: integer (nullable = true)\n",
      " |-- isInCondor: boolean (nullable = true)\n",
      " |-- isSwapGroupTransaction: boolean (nullable = true)\n",
      " |-- last4: string (nullable = true)\n",
      " |-- location: array (nullable = true)\n",
      " |    |-- element: double (containsNull = true)\n",
      " |-- message: string (nullable = true)\n",
      " |-- mit: string (nullable = true)\n",
      " |-- movements: array (nullable = true)\n",
      " |    |-- element: string (containsNull = true)\n",
      " |-- newBalance: double (nullable = true)\n",
      " |-- oldBalance: double (nullable = true)\n",
      " |-- originalMovement: string (nullable = true)\n",
      " |-- payLater: boolean (nullable = true)\n",
      " |-- payedAt: timestamp (nullable = true)\n",
      " |-- payerFee: double (nullable = true)\n",
      " |-- payerId: string (nullable = true)\n",
      " |-- payerName: string (nullable = true)\n",
      " |-- payerNewBalance: double (nullable = true)\n",
      " |-- payerOldBalance: double (nullable = true)\n",
      " |-- provider: string (nullable = true)\n",
      " |-- reaction: string (nullable = true)\n",
      " |-- receiverFee: double (nullable = true)\n",
      " |-- receiverId: string (nullable = true)\n",
      " |-- receiverName: string (nullable = true)\n",
      " |-- receiverNewBalance: double (nullable = true)\n",
      " |-- receiverOldBalance: double (nullable = true)\n",
      " |-- requestId: string (nullable = true)\n",
      " |-- requestIp: string (nullable = true)\n",
      " |-- retrievalReference: string (nullable = true)\n",
      " |-- slackId: string (nullable = true)\n",
      " |-- source: string (nullable = true)\n",
      " |-- state: string (nullable = true)\n",
      " |-- status: string (nullable = true)\n",
      " |-- tenant: string (nullable = true)\n",
      " |-- terminalIdentification: string (nullable = true)\n",
      " |-- tip: integer (nullable = true)\n",
      " |-- token: string (nullable = true)\n",
      " |-- transactionType: string (nullable = true)\n",
      " |-- transactionalSession: string (nullable = true)\n",
      " |-- url: string (nullable = true)\n",
      "\n"
     ]
    }
   ],
   "source": [
    "df.printSchema()"
   ]
  },
  {
   "cell_type": "code",
   "execution_count": 33,
   "metadata": {},
   "outputs": [
    {
     "name": "stderr",
     "output_type": "stream",
     "text": [
      "                                                                                \r"
     ]
    }
   ],
   "source": [
    "output_path = \"./parquet/\" + collection\n",
    "df.repartition(2).write.mode(\"overwrite\").parquet(output_path)\n"
   ]
  },
  {
   "cell_type": "code",
   "execution_count": null,
   "metadata": {},
   "outputs": [],
   "source": []
  },
  {
   "cell_type": "markdown",
   "metadata": {},
   "source": [
    "### Upsert\n"
   ]
  },
  {
   "cell_type": "code",
   "execution_count": 4,
   "metadata": {},
   "outputs": [
    {
     "name": "stdout",
     "output_type": "stream",
     "text": [
      "2024-09-26 00:00:00-06:00\n"
     ]
    }
   ],
   "source": [
    "# Obtener la zona horaria de México usando zoneinfo\n",
    "tz_mexico = ZoneInfo(\"America/Mexico_City\")\n",
    "\n",
    "# Obtener la fecha de hoy a las 00:00 en la zona horaria de México\n",
    "fecha_hoy = datetime.now(tz_mexico).replace(hour=0, minute=0, second=0, microsecond=0)\n",
    "\n",
    "# Convertir la fecha al formato ISO 8601 (para MongoDB)\n",
    "fecha_hoy_iso = fecha_hoy.isoformat()\n",
    "\n",
    "print(fecha_hoy)"
   ]
  },
  {
   "cell_type": "code",
   "execution_count": 8,
   "metadata": {},
   "outputs": [
    {
     "name": "stderr",
     "output_type": "stream",
     "text": [
      "                                                                                \r"
     ]
    }
   ],
   "source": [
    "collection = \"PocketBalance\"\n",
    "\n",
    "pipeline = f\"\"\"[{{ \n",
    "    \"$match\": {{\n",
    "        \"$or\": [\n",
    "            {{\"_updated_at\": {{\"$gte\": {{\"$date\": \"{fecha_hoy_iso}\"}}}}}},\n",
    "            {{\"_created_at\": {{\"$gte\": {{\"$date\": \"{fecha_hoy_iso}\"}}}}}}\n",
    "        ]\n",
    "    }}\n",
    "}}]\"\"\"\n",
    "\n",
    "# Lectura de la colección desde MongoDB con filtro\n",
    "df_filtrado = spark.read \\\n",
    "            .format(\"mongo\") \\\n",
    "            .option(\"uri\", MONGO_URI) \\\n",
    "            .option(\"collection\", collection) \\\n",
    "            .option(\"partitioner\", \"MongoPaginateBySizePartitioner\") \\\n",
    "            .option(\"pipeline\", pipeline) \\\n",
    "            .load()\n",
    "\n",
    "save_json(df_filtrado,collection)"
   ]
  },
  {
   "cell_type": "code",
   "execution_count": 9,
   "metadata": {},
   "outputs": [
    {
     "name": "stderr",
     "output_type": "stream",
     "text": [
      "                                                                                \r"
     ]
    }
   ],
   "source": [
    "output_path = \"./exports/\" + collection + \".parquet\"\n",
    "df_filtrado.write.mode(\"overwrite\").parquet(output_path)\n"
   ]
  },
  {
   "cell_type": "markdown",
   "metadata": {},
   "source": [
    "### Read Parquet\n"
   ]
  },
  {
   "cell_type": "code",
   "execution_count": 15,
   "metadata": {},
   "outputs": [
    {
     "name": "stdout",
     "output_type": "stream",
     "text": [
      "+--------------------+--------------------+----------+----------------+------------+--------------------+--------------------+--------------------+--------------------+-------+------------------+----------+------------------------------+------------------------+------+--------------------------+-----------+----------+\n",
      "|                _acl|         _created_at|       _id|        _p_owner|      _rperm|         _updated_at|   accountActivityAt|   accountExternalId|   accountInternalId|balance|             clabe|isInCondor|isInCondorTransactionalProfile|last_stp_request_message|status|stp_communication_attempts|swapGroupId|    userId|\n",
      "+--------------------+--------------------+----------+----------------+------------+--------------------+--------------------+--------------------+--------------------+-------+------------------+----------+------------------------------+------------------------+------+--------------------------+-----------+----------+\n",
      "|{NpcqRJRRlt -> {t...|2024-09-26 15:22:...|CDQEUwwWl7|_User$NpcqRJRRlt|[NpcqRJRRlt]|2024-09-26 15:22:...|2024-09-26 15:22:...|c03f293d-1785-46c...|c3604841-bfb4-4e4...|    0.0|646180137006045410|     false|                          NULL|     Cuenta en revisión.|active|                         1|       NULL|NpcqRJRRlt|\n",
      "|{nAyXcSaZOx -> {t...|2024-09-26 15:19:...|adAREDpb8E|_User$nAyXcSaZOx|[nAyXcSaZOx]|2024-09-26 15:19:...|2024-09-26 15:19:...|78f073ba-76a0-40c...|4f725c83-07ed-492...|    0.0|646180137006045407|     false|                          NULL|     Cuenta en revisión.|active|                         1|       NULL|nAyXcSaZOx|\n",
      "|{QnHmZSGg3Q -> {t...|2024-09-26 15:18:...|u5mVWbVY9V|_User$QnHmZSGg3Q|[QnHmZSGg3Q]|2024-09-26 15:18:...|2024-09-26 15:18:...|2b661e37-20e3-49a...|c5391a03-d349-484...|    0.0|646180137006045397|     false|                          NULL|     Cuenta en revisión.|active|                         1|       NULL|QnHmZSGg3Q|\n",
      "|{wUE5Ju5scX -> {t...|2024-09-26 15:17:...|iW0m1K4eDt|_User$wUE5Ju5scX|[wUE5Ju5scX]|2024-09-26 15:17:...|2024-09-26 15:17:...|2b0b47e1-b0ed-440...|31c127bd-cedf-4e4...|    0.0|646180137006045384|     false|                          NULL|     Cuenta en revisión.|active|                         1|       NULL|wUE5Ju5scX|\n",
      "|{EFPRZNm0N5 -> {t...|2024-09-26 15:13:...|Vou1ra40Ql|_User$EFPRZNm0N5|[EFPRZNm0N5]|2024-09-26 15:13:...|2024-09-26 15:13:...|85e8657a-dfe0-4c8...|044bef67-8c15-4f8...|    0.0|646180137006045371|     false|                          NULL|     Cuenta en revisión.|active|                         1|       NULL|EFPRZNm0N5|\n",
      "|{Ao8GreCtxY -> {t...|2024-09-26 15:13:...|p071VbcaPX|_User$Ao8GreCtxY|[Ao8GreCtxY]|2024-09-26 15:13:...|2024-09-26 15:13:...|c9551b83-2b2c-4f3...|62026e6c-81b2-40f...|    0.0|646180137006045368|     false|                          NULL|     Cuenta en revisión.|active|                         1|       NULL|Ao8GreCtxY|\n",
      "|{7xab1fFhNN -> {t...|2024-09-26 15:13:...|5QySYDz9Nb|_User$7xab1fFhNN|[7xab1fFhNN]|2024-09-26 15:13:...|2024-09-26 15:13:...|c2f6029c-435a-410...|3a22d99f-38b4-43c...|    0.0|646180137006045355|     false|                          NULL|     Cuenta en revisión.|active|                         1|       NULL|7xab1fFhNN|\n",
      "|{M2XXSAIFPt -> {t...|2024-09-26 15:12:...|2ACbpx1Tga|_User$M2XXSAIFPt|[M2XXSAIFPt]|2024-09-26 15:12:...|2024-09-26 15:12:...|3adf532f-8b0a-406...|403c1df2-400c-4e0...|    0.0|646180137006045342|     false|                          NULL|     Cuenta en revisión.|active|                         1|       NULL|M2XXSAIFPt|\n",
      "|{dZhJ8xaoQQ -> {t...|2024-09-26 15:12:...|Oe1aab9nkL|_User$dZhJ8xaoQQ|[dZhJ8xaoQQ]|2024-09-26 15:12:...|2024-09-26 15:12:...|e019e282-2e3c-4d9...|4d58ff08-afb7-48a...|    0.0|646180137006045339|     false|                          NULL|     Cuenta en revisión.|active|                         1|       NULL|dZhJ8xaoQQ|\n",
      "|{TUcYlFZVH3 -> {t...|2024-09-26 15:11:...|RNjhhNF9o0|_User$TUcYlFZVH3|[TUcYlFZVH3]|2024-09-26 15:11:...|2024-09-26 15:11:...|12cec044-f3fb-449...|c6b782b4-a49e-48a...|    0.0|646180137006045326|     false|                          NULL|     Cuenta en revisión.|active|                         1|       NULL|TUcYlFZVH3|\n",
      "|{ViAqUPPB6w -> {t...|2024-09-26 15:11:...|n9RWB6kO7U|_User$ViAqUPPB6w|[ViAqUPPB6w]|2024-09-26 15:11:...|2024-09-26 15:11:...|58a2256e-2b25-4b0...|bc2a7e24-d579-4ba...|    0.0|646180137006045313|     false|                          NULL|     Cuenta en revisión.|active|                         1|       NULL|ViAqUPPB6w|\n",
      "|{vWLv1QiPxz -> {t...|2024-09-26 15:10:...|hT97SECpjx|_User$vWLv1QiPxz|[vWLv1QiPxz]|2024-09-26 15:10:...|2024-09-26 15:10:...|66775888-e290-40a...|1cf13480-4565-4e4...|    0.0|646180137006045300|     false|                          NULL|     Cuenta en revisión.|active|                         1|       NULL|vWLv1QiPxz|\n",
      "|{qBHkpg2VKi -> {t...|2024-09-26 15:10:...|0xzbZ8uRvU|_User$qBHkpg2VKi|[qBHkpg2VKi]|2024-09-26 15:10:...|2024-09-26 15:10:...|d0c5cd02-6d8f-4e4...|83bc2175-1bf9-437...|    0.0|646180137006045290|     false|                          NULL|     Cuenta en revisión.|active|                         1|       NULL|qBHkpg2VKi|\n",
      "|{CiQzUpC50a -> {t...|2024-09-26 15:08:...|Veh3pVbyKd|_User$CiQzUpC50a|[CiQzUpC50a]|2024-09-26 15:08:...|2024-09-26 15:08:...|ebff1823-4d91-439...|68e0951f-11cf-418...|    0.0|646180137006045287|     false|                          NULL|     Cuenta en revisión.|active|                         1|       NULL|CiQzUpC50a|\n",
      "|{t3BSuibfLM -> {t...|2024-09-26 15:07:...|SPzt3DAQxQ|_User$t3BSuibfLM|[t3BSuibfLM]|2024-09-26 15:07:...|2024-09-26 15:07:...|1caedaba-a749-440...|b925e7b5-bb3e-44e...|    0.0|646180137006045274|     false|                          NULL|     Cuenta en revisión.|active|                         1|       NULL|t3BSuibfLM|\n",
      "|{cDVFHQyTxN -> {t...|2024-09-26 15:07:...|OfIQabDuHH|_User$cDVFHQyTxN|[cDVFHQyTxN]|2024-09-26 15:07:...|2024-09-26 15:07:...|2fb56b30-9cec-44b...|cb42a4b0-1023-432...|    0.0|646180137006045261|     false|                          NULL|     Cuenta en revisión.|active|                         1|       NULL|cDVFHQyTxN|\n",
      "|{wZTkBqUaAC -> {t...|2024-09-26 15:06:...|JTJUpCqmsz|_User$wZTkBqUaAC|[wZTkBqUaAC]|2024-09-26 15:06:...|2024-09-26 15:06:...|6c85a3e5-26e2-4b7...|8ad14fc9-9716-45d...|    0.0|646180137006045258|     false|                          NULL|     Cuenta en revisión.|active|                         1|       NULL|wZTkBqUaAC|\n",
      "|{ARXFfedLwr -> {t...|2024-09-26 15:06:...|QMrA2IBGNM|_User$ARXFfedLwr|[ARXFfedLwr]|2024-09-26 15:06:...|2024-09-26 15:06:...|462b72e4-9f2e-404...|013c109b-43a5-4b7...|    0.0|646180137006045245|     false|                          NULL|     Cuenta en revisión.|active|                         1|       NULL|ARXFfedLwr|\n",
      "|{74fYWT7Col -> {t...|2024-09-26 15:00:...|sR9wrqiUHY|_User$74fYWT7Col|[74fYWT7Col]|2024-09-26 15:00:...|2024-09-26 15:00:...|9d5e3833-2c73-453...|43b10d61-360c-417...|    0.0|646180137006045232|     false|                          NULL|     Cuenta en revisión.|active|                         1|       NULL|74fYWT7Col|\n",
      "|{D4ttUljGlo -> {t...|2024-09-26 15:00:...|NxW1sFBJ7z|_User$D4ttUljGlo|[D4ttUljGlo]|2024-09-26 15:00:...|2024-09-26 15:00:...|73374718-bf81-4c8...|d95f9596-0566-41b...|    0.0|646180137006045229|     false|                          NULL|     Cuenta en revisión.|active|                         1|       NULL|D4ttUljGlo|\n",
      "+--------------------+--------------------+----------+----------------+------------+--------------------+--------------------+--------------------+--------------------+-------+------------------+----------+------------------------------+------------------------+------+--------------------------+-----------+----------+\n",
      "only showing top 20 rows\n",
      "\n"
     ]
    }
   ],
   "source": [
    "df_parquet = spark.read.parquet(\"./exports/PocketBalance.parquet\")\n",
    "df_parquet.show()"
   ]
  },
  {
   "cell_type": "code",
   "execution_count": 12,
   "metadata": {},
   "outputs": [
    {
     "name": "stdout",
     "output_type": "stream",
     "text": [
      "+--------------------+----------+------------------+--------------------+----+---------+----------+--------+--------------------+--------+\n",
      "|         _created_at|       _id|        _p_country|         _updated_at|code|countryId|externalId|iataCode|                name| stateId|\n",
      "+--------------------+----------+------------------+--------------------+----+---------+----------+--------+--------------------+--------+\n",
      "|2020-01-02T15:12:...|LzJCjUPF7h|Country$elWGUJgxg2|2021-12-07T13:34:...|  TC|      236|        27|     TAB|             TABASCO|      27|\n",
      "|2020-01-02T15:12:...|MYpxq5HgGJ|Country$elWGUJgxg2|2021-12-07T13:32:...|  BS|      236|         3|     BCS| BAJA CALIFORNIA SUR|       3|\n",
      "|2020-01-02T15:12:...|dQoyDGabCk|Country$elWGUJgxg2|2021-12-07T13:33:...|  PL|      236|        21|     PUE|              PUEBLA|      21|\n",
      "|2020-01-02T15:12:...|tWnqTFckHb|Country$elWGUJgxg2|2021-12-07T13:32:...|  BC|      236|         2|      BC|     BAJA CALIFORNIA|       2|\n",
      "|2020-01-02T15:12:...|z0GVQPN27A|Country$elWGUJgxg2|2021-12-07T13:33:...|  SL|      236|        25|     SIN|             SINALOA|      25|\n",
      "|2020-01-02T15:12:...|oHmAvcuipT|Country$elWGUJgxg2|2021-12-07T13:33:...|  OC|      236|        20|     OAX|              OAXACA|      20|\n",
      "|2020-01-02T15:12:...|cmSzBYG45I|Country$elWGUJgxg2|2021-12-07T13:33:...|  MC|      236|        15|     MEX|              MEXICO|      15|\n",
      "|2020-01-02T15:12:...|6CApwSBbxq|Country$elWGUJgxg2|2021-12-07T13:34:...|  VZ|      236|        30|     VER|VERACRUZ DE IGNAC...|      30|\n",
      "|2020-01-02T15:12:...|iRuvHxzKEl|Country$elWGUJgxg2|2021-12-07T13:34:...|  SR|      236|        26|     SON|              SONORA|      26|\n",
      "|2020-01-02T15:12:...|WAOXfBm04h|Country$elWGUJgxg2|2021-12-07T13:32:...|  GT|      236|        11|     GTO|          GUANAJUATO|      11|\n",
      "|2020-01-02T15:12:...|lNx7ioLU3E|Country$elWGUJgxg2|2021-12-07T13:34:...|  TS|      236|        28|   TAMPS|          TAMAULIPAS|      28|\n",
      "|2020-01-02T15:12:...|AV51p9H3ZC|Country$elWGUJgxg2|2021-12-07T13:34:...|  ZS|      236|        32|     ZAC|           ZACATECAS|      32|\n",
      "|2020-01-02T15:12:...|JZV5FPFNaM|Country$elWGUJgxg2|2021-12-07T13:33:...|  HG|      236|        13|     HGO|             HIDALGO|      13|\n",
      "|2020-01-02T15:12:...|w1vJZM4oIJ|Country$elWGUJgxg2|2021-12-07T13:32:...|  DG|      236|        10|     DGO|             DURANGO|      10|\n",
      "|2020-01-02T15:12:...|32aNYm9DG5|Country$SvTSx10OKA|2021-12-07T13:33:...|  NE| 99999999|  99999999|      NE|                Otro|99999999|\n",
      "|2020-01-02T15:12:...|SYDsomPzWn|Country$elWGUJgxg2|2021-12-07T13:33:...|  MS|      236|        17|     MOR|             MORELOS|      17|\n",
      "|2020-01-02T15:12:...|bt3O9HiGmY|Country$elWGUJgxg2|2021-12-07T13:32:...|  CM|      236|         6|     COL|              COLIMA|       6|\n",
      "|2020-01-02T15:12:...|AvdQ4oTlRX|Country$elWGUJgxg2|2021-12-07T13:33:...|  SP|      236|        24|     SLP|     SAN LUIS POTOSI|      24|\n",
      "|2020-01-02T15:12:...|EqD8KnmfVL|Country$elWGUJgxg2|2021-12-07T13:33:...|  JC|      236|        14|     JAL|             JALISCO|      14|\n",
      "|2020-01-02T15:12:...|TdGVnYOSTl|Country$elWGUJgxg2|2021-12-07T13:33:...|  NT|      236|        18|     NAY|             NAYARIT|      18|\n",
      "+--------------------+----------+------------------+--------------------+----+---------+----------+--------+--------------------+--------+\n",
      "only showing top 20 rows\n",
      "\n"
     ]
    }
   ],
   "source": [
    "file_path = \"./exports/State.json\"\n",
    "json_df = spark.read.json(file_path,multiLine=True)\n",
    "json_df.show()"
   ]
  },
  {
   "cell_type": "markdown",
   "metadata": {},
   "source": [
    "### Databricks"
   ]
  },
  {
   "cell_type": "code",
   "execution_count": 37,
   "metadata": {},
   "outputs": [],
   "source": [
    "import requests\n",
    "\n",
    "databricks_instance = 'https://clip-banking-dev.cloud.databricks.com'\n",
    "headers = {'Authorization': f'Bearer {DBKS_TOKEN}'}\n",
    "\n",
    "def upload_to_dbfs(local_file_path, dbfs_path):\n",
    "    with open(local_file_path, 'rb') as f:\n",
    "        file_content = f.read()\n",
    "        url = f'{databricks_instance}/api/2.0/fs/files{dbfs_path}' \n",
    "        response = requests.put(url, headers=headers, data=file_content)\n",
    "\n",
    "    if response.status_code != 204:\n",
    "        logging.error(f\"Error al subir el archivo: {response.status_code}, {response.text}\")\n",
    "    else:\n",
    "        logging.info(f'Archivo {local_file_path} subido exitosamente a {dbfs_path}')"
   ]
  },
  {
   "cell_type": "code",
   "execution_count": 38,
   "metadata": {},
   "outputs": [
    {
     "name": "stderr",
     "output_type": "stream",
     "text": [
      "2024-09-30 11:23:04,636 - INFO - Archivo ./exports/State.parquet subido exitosamente a /Volumes/sandbox_banking/mutt_data_banking/mongo/State.parquet\n",
      "2024-09-30 11:23:06,170 - INFO - Archivo ./exports/Country.parquet subido exitosamente a /Volumes/sandbox_banking/mutt_data_banking/mongo/Country.parquet\n",
      "2024-09-30 11:23:08,123 - INFO - Archivo ./exports/Municipality.parquet subido exitosamente a /Volumes/sandbox_banking/mutt_data_banking/mongo/Municipality.parquet\n",
      "2024-09-30 11:23:19,161 - INFO - Archivo ./exports/ZipCode.parquet subido exitosamente a /Volumes/sandbox_banking/mutt_data_banking/mongo/ZipCode.parquet\n",
      "2024-09-30 11:23:45,475 - INFO - Archivo ./exports/PocketBalance.parquet subido exitosamente a /Volumes/sandbox_banking/mutt_data_banking/mongo/PocketBalance.parquet\n",
      "2024-09-30 11:24:00,759 - INFO - Archivo ./exports/Location.parquet subido exitosamente a /Volumes/sandbox_banking/mutt_data_banking/mongo/Location.parquet\n",
      "2024-09-30 11:25:35,885 - INFO - Archivo ./exports/User.parquet subido exitosamente a /Volumes/sandbox_banking/mutt_data_banking/mongo/User.parquet\n"
     ]
    }
   ],
   "source": [
    "collections = [\"State\",\"Country\",\"Municipality\",\"ZipCode\",\"PocketBalance\",\"Location\",\"User\"]\n",
    "for collection in collections:\n",
    "    parquet_file = f'{collection}.parquet'\n",
    "    local_path = f'./exports/{parquet_file}'\n",
    "    dbfs_path = f'/Volumes/sandbox_banking/mutt_data_banking/mongo/{parquet_file}'  \n",
    "    upload_to_dbfs(local_path, dbfs_path)"
   ]
  },
  {
   "cell_type": "code",
   "execution_count": 39,
   "metadata": {},
   "outputs": [
    {
     "name": "stderr",
     "output_type": "stream",
     "text": [
      "2024-09-30 11:28:28,602 - INFO - Archivo ./exports/TransactionPart1.parquet subido exitosamente a /Volumes/sandbox_banking/mutt_data_banking/mongo/TransactionPart1.parquet\n",
      "2024-09-30 11:31:04,546 - INFO - Archivo ./exports/TransactionPart2.parquet subido exitosamente a /Volumes/sandbox_banking/mutt_data_banking/mongo/TransactionPart2.parquet\n"
     ]
    }
   ],
   "source": [
    "collections = [\"TransactionPart1\",\"TransactionPart2\"]\n",
    "for collection in collections:\n",
    "    parquet_file = f'{collection}.parquet'\n",
    "    local_path = f'./exports/{parquet_file}'\n",
    "    dbfs_path = f'/Volumes/sandbox_banking/mutt_data_banking/mongo/{parquet_file}'  \n",
    "    upload_to_dbfs(local_path, dbfs_path)"
   ]
  }
 ],
 "metadata": {
  "kernelspec": {
   "display_name": "Python 3",
   "language": "python",
   "name": "python3"
  },
  "language_info": {
   "codemirror_mode": {
    "name": "ipython",
    "version": 3
   },
   "file_extension": ".py",
   "mimetype": "text/x-python",
   "name": "python",
   "nbconvert_exporter": "python",
   "pygments_lexer": "ipython3",
   "version": "3.12.0"
  }
 },
 "nbformat": 4,
 "nbformat_minor": 2
}
