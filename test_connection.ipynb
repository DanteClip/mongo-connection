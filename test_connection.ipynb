{
 "cells": [
  {
   "cell_type": "code",
   "execution_count": null,
   "metadata": {
    "vscode": {
     "languageId": "plaintext"
    }
   },
   "outputs": [],
   "source": [
    "from dotenv import load_dotenv\n",
    "from pyspark.sql import SparkSession\n",
    "\n",
    "\n",
    "load_dotenv()\n",
    "MONGO_URI = os.getenv(\"MONGO_URI\")\n",
    "\n",
    "jar_path = './jars/mongo-spark-connector_2.12-3.0.2-assembly.jar'\n",
    "\n",
    "\n",
    "spark = SparkSession.builder \\\n",
    "    .appName(\"MongoDB_Spark_Connection\") \\\n",
    "    .config(\"spark.mongodb.input.uri\", MONGO_URI) \\\n",
    "    .config(\"spark.jars\", jar_path) \\\n",
    "    .getOrCreate()"
   ]
  },
  {
   "cell_type": "code",
   "execution_count": null,
   "metadata": {
    "vscode": {
     "languageId": "plaintext"
    }
   },
   "outputs": [],
   "source": [
    "df = spark.read \\\n",
    "    .format(\"mongo\") \\\n",
    "    .option(\"uri\", MONGO_URI) \\\n",
    "    .option(\"collection\", \"_User\") \\\n",
    "    .option(\"partitioner\", \"MongoPaginateBySizePartitioner\") \\\n",
    "    .load()\n",
    "\n",
    "# Mostrar los primeros 100 registros\n",
    "df.show(10)"
   ]
  }
 ],
 "metadata": {
  "language_info": {
   "name": "python"
  }
 },
 "nbformat": 4,
 "nbformat_minor": 2
}
